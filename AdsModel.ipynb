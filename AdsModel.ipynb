{
 "cells": [
  {
   "cell_type": "code",
   "execution_count": 1,
   "metadata": {
    "collapsed": true
   },
   "outputs": [],
   "source": [
    "import numpy as np\n",
    "import pandas as pd\n",
    "import matplotlib.pyplot as plt\n",
    "%matplotlib inline"
   ]
  },
  {
   "cell_type": "markdown",
   "metadata": {},
   "source": [
    "# Loading data"
   ]
  },
  {
   "cell_type": "code",
   "execution_count": 2,
   "metadata": {
    "collapsed": false
   },
   "outputs": [
    {
     "name": "stdout",
     "output_type": "stream",
     "text": [
      "(50000, 4)\n"
     ]
    },
    {
     "data": {
      "text/html": [
       "<div>\n",
       "<table border=\"1\" class=\"dataframe\">\n",
       "  <thead>\n",
       "    <tr style=\"text-align: right;\">\n",
       "      <th></th>\n",
       "      <th>user_id</th>\n",
       "      <th>conversion_id</th>\n",
       "      <th>event_timestamp</th>\n",
       "      <th>advertisements</th>\n",
       "    </tr>\n",
       "  </thead>\n",
       "  <tbody>\n",
       "    <tr>\n",
       "      <th>0</th>\n",
       "      <td>000000b7-6230-4900-a27f-c92e0ba6fc4c</td>\n",
       "      <td>NaN</td>\n",
       "      <td>2016-09-12 17:42:58.0</td>\n",
       "      <td>[[{\"vendorId\": \"1480887\", \"adSize\": \"unknown\",...</td>\n",
       "    </tr>\n",
       "    <tr>\n",
       "      <th>1</th>\n",
       "      <td>000001b9-0cea-4ebf-80a8-efe22c902a64</td>\n",
       "      <td>NaN</td>\n",
       "      <td>2016-10-10 15:44:53.0</td>\n",
       "      <td>[[{\"pageUrlhost\": \"www.atkins.com\", \"domainCoo...</td>\n",
       "    </tr>\n",
       "    <tr>\n",
       "      <th>2</th>\n",
       "      <td>00000621-8230-4551-82ba-45f08de06094</td>\n",
       "      <td>NaN</td>\n",
       "      <td>2016-08-24 05:27:50.0</td>\n",
       "      <td>[[{\"vendorId\": \"1480887\", \"placementId\": \"1316...</td>\n",
       "    </tr>\n",
       "  </tbody>\n",
       "</table>\n",
       "</div>"
      ],
      "text/plain": [
       "                                user_id conversion_id        event_timestamp  \\\n",
       "0  000000b7-6230-4900-a27f-c92e0ba6fc4c           NaN  2016-09-12 17:42:58.0   \n",
       "1  000001b9-0cea-4ebf-80a8-efe22c902a64           NaN  2016-10-10 15:44:53.0   \n",
       "2  00000621-8230-4551-82ba-45f08de06094           NaN  2016-08-24 05:27:50.0   \n",
       "\n",
       "                                      advertisements  \n",
       "0  [[{\"vendorId\": \"1480887\", \"adSize\": \"unknown\",...  \n",
       "1  [[{\"pageUrlhost\": \"www.atkins.com\", \"domainCoo...  \n",
       "2  [[{\"vendorId\": \"1480887\", \"placementId\": \"1316...  "
      ]
     },
     "execution_count": 2,
     "metadata": {},
     "output_type": "execute_result"
    }
   ],
   "source": [
    "input_path = '../input/data_50k.tsv'\n",
    "data = pd.read_csv(input_path, sep = '\\t', header = None, \\\n",
    "    names = ['user_id', 'conversion_id', 'repeat', 'event_timestamp', 'run_timestamp', 'advertisements'],\\\n",
    "    usecols = ['user_id', 'conversion_id', 'event_timestamp', 'advertisements'])\n",
    "print data.shape\n",
    "data.head(3)"
   ]
  },
  {
   "cell_type": "code",
   "execution_count": 3,
   "metadata": {
    "collapsed": false
   },
   "outputs": [
    {
     "data": {
      "text/html": [
       "<div>\n",
       "<table border=\"1\" class=\"dataframe\">\n",
       "  <thead>\n",
       "    <tr style=\"text-align: right;\">\n",
       "      <th></th>\n",
       "      <th>user_id</th>\n",
       "      <th>conversion_id</th>\n",
       "      <th>event_timestamp</th>\n",
       "      <th>advertisements</th>\n",
       "    </tr>\n",
       "  </thead>\n",
       "  <tbody>\n",
       "    <tr>\n",
       "      <th>49997</th>\n",
       "      <td>075fb5ce-638e-4569-86e3-ae3503fff94d</td>\n",
       "      <td>NaN</td>\n",
       "      <td>2016-12-04 01:00:52.0</td>\n",
       "      <td>[[{\"pageUrlhost\": \"www.atkins.com\", \"domainCoo...</td>\n",
       "    </tr>\n",
       "    <tr>\n",
       "      <th>49998</th>\n",
       "      <td>075fbbdd-f7fc-43ac-87c3-bf5c277eb811</td>\n",
       "      <td>NaN</td>\n",
       "      <td>2016-08-20 23:07:00.0</td>\n",
       "      <td>[[{\"vendorId\": \"1451748\", \"placementId\": \"1289...</td>\n",
       "    </tr>\n",
       "    <tr>\n",
       "      <th>49999</th>\n",
       "      <td>075fda98-99af-4a31-8c3f-11758c7fbdaf</td>\n",
       "      <td>NaN</td>\n",
       "      <td>2016-09-25 20:57:55.0</td>\n",
       "      <td>[[{\"vendorId\": \"1480887\", \"placementId\": \"1333...</td>\n",
       "    </tr>\n",
       "  </tbody>\n",
       "</table>\n",
       "</div>"
      ],
      "text/plain": [
       "                                    user_id conversion_id  \\\n",
       "49997  075fb5ce-638e-4569-86e3-ae3503fff94d           NaN   \n",
       "49998  075fbbdd-f7fc-43ac-87c3-bf5c277eb811           NaN   \n",
       "49999  075fda98-99af-4a31-8c3f-11758c7fbdaf           NaN   \n",
       "\n",
       "             event_timestamp  \\\n",
       "49997  2016-12-04 01:00:52.0   \n",
       "49998  2016-08-20 23:07:00.0   \n",
       "49999  2016-09-25 20:57:55.0   \n",
       "\n",
       "                                          advertisements  \n",
       "49997  [[{\"pageUrlhost\": \"www.atkins.com\", \"domainCoo...  \n",
       "49998  [[{\"vendorId\": \"1451748\", \"placementId\": \"1289...  \n",
       "49999  [[{\"vendorId\": \"1480887\", \"placementId\": \"1333...  "
      ]
     },
     "execution_count": 3,
     "metadata": {},
     "output_type": "execute_result"
    }
   ],
   "source": [
    "# check the format for the input data is consistent\n",
    "data.tail(3)"
   ]
  },
  {
   "cell_type": "markdown",
   "metadata": {},
   "source": [
    "# Data Exploring"
   ]
  },
  {
   "cell_type": "code",
   "execution_count": 4,
   "metadata": {
    "collapsed": false
   },
   "outputs": [
    {
     "data": {
      "text/plain": [
       "49967"
      ]
     },
     "execution_count": 4,
     "metadata": {},
     "output_type": "execute_result"
    }
   ],
   "source": [
    "# There are duplicate users\n",
    "len(set(data['user_id']))"
   ]
  },
  {
   "cell_type": "code",
   "execution_count": 5,
   "metadata": {
    "collapsed": false
   },
   "outputs": [
    {
     "data": {
      "text/plain": [
       "0.00770000000000004"
      ]
     },
     "execution_count": 5,
     "metadata": {},
     "output_type": "execute_result"
    }
   ],
   "source": [
    "# the basic conversion rate => unblance (AUC, StratifiedKFold, SMOTEENN)\n",
    "1- 1.0 * data['conversion_id'].isnull().sum() / data.shape[0]"
   ]
  },
  {
   "cell_type": "markdown",
   "metadata": {},
   "source": [
    "### Extract features from advertisements"
   ]
  },
  {
   "cell_type": "code",
   "execution_count": 6,
   "metadata": {
    "collapsed": false
   },
   "outputs": [
    {
     "data": {
      "text/plain": [
       "{u'action',\n",
       " u'adPosition',\n",
       " u'adServerId',\n",
       " u'adSize',\n",
       " u'adgroupId',\n",
       " u'advertiserProduct',\n",
       " u'campaignId',\n",
       " u'channel',\n",
       " u'clCookieId',\n",
       " u'creativeId',\n",
       " u'deviceType',\n",
       " u'domainCookieId',\n",
       " u'impressionId',\n",
       " u'inferredDma',\n",
       " u'keyword',\n",
       " u'keywordId',\n",
       " u'matchType',\n",
       " u'organicSource',\n",
       " u'pageUrlhost',\n",
       " u'placementId',\n",
       " u'publisherId',\n",
       " u'rawChannel',\n",
       " u'refrUrlhost',\n",
       " u'strategy',\n",
       " u'vendorId'}"
      ]
     },
     "execution_count": 6,
     "metadata": {},
     "output_type": "execute_result"
    }
   ],
   "source": [
    "# the information in advertisements\n",
    "import json\n",
    "ad_keys = set()\n",
    "for index, lst_ads in data['advertisements'].iteritems():\n",
    "    lst_ads = json.loads(lst_ads)\n",
    "    for ad in lst_ads:\n",
    "        for key in ad[0].keys():\n",
    "            ad_keys.add(key)\n",
    "ad_keys"
   ]
  },
  {
   "cell_type": "code",
   "execution_count": 7,
   "metadata": {
    "collapsed": false
   },
   "outputs": [
    {
     "name": "stdout",
     "output_type": "stream",
     "text": [
      "vendorId 9\n",
      "facebook,google,bing,1480887,atkins_ir,None,1451748,atkins_dcm,silverpop\n",
      "placementId 187\n",
      "campaignId 35\n",
      "5off,ECOM,201321936,188853576,202857576,204494976,204495096,603951798,186903936,US_EN_ECRM-L2,US_EN_ECRM-L1,9480859,201306696,202858776,9718623,Lifestyle,6046074859999,164360616,ecom,None,131111976,603951789,133156491,125068776,202857456,121216_US_EN_PROM_FREE5PK,6046076740199,ECRM,603951801,132068509,120716_US_EN_ECRM-A20-P1,10260197,120716_US_EN_ECRM-A20-P2,6046075758599,120716_US_EN_ECRM-A40\n",
      "impressionId 23940\n",
      "advertiserProduct 3\n",
      "atkins,unknown,None\n",
      "keywordId 149\n",
      "creativeId 280\n",
      "domainCookieId 7022\n",
      "adPosition 11\n",
      "none,1t5,1t2,1t3,1o1,1t1,1t4,1s1,None,1s5,2s3\n",
      "strategy 3\n",
      "unknown,None,unknown-leadgen\n",
      "deviceType 6\n",
      "Tablet,Mobile,Unknown,Computer,None,Game console\n",
      "matchType 3\n",
      "exact,broad,None\n",
      "channel 10\n",
      "search,affiliate-inferred,email,social-inferred,social,affiliate,sem,None,display,email-inferred\n",
      "pageUrlhost 713\n",
      "adSize 4\n",
      "unknown,None,silverpop,unknown-leadgen\n",
      "refrUrlhost 2138\n",
      "organicSource 30\n",
      "google,instagram,twitter,linkedin,yahoo mail,socalcouponer,startsiden,yandex,gmail,pinterest,coupondivas,infospace,mysearch,reddit,duckduckgo,aol,google images,yahoo,thekrazycouponlady,facebook,ask,retailmenot,disqus,coupons,couponssmart,earthlink,search.com,bing,None,couponsherpa\n",
      "adgroupId 82\n",
      "keyword 270\n",
      "clCookieId 49662\n",
      "rawChannel 10\n",
      "search,affiliate-inferred,email,social-inferred,social,affiliate,sem,None,display,email-inferred\n",
      "inferredDma 211\n",
      "action 3\n",
      "imp,None,click\n",
      "publisherId 37\n",
      "dogpile.com,duckduckgo.com,couponsherpa.com,coupondivas.com,coupons.com,myway.com,mediapartner,yandex.ru,silverpop,2085039,linkedin.com,bing.com,earthlink.net,retailmenot.com,reddit.com,1480887,twitter.com,gdn,disq.us,1451748,facebook.com,thekrazycouponlady.com,1856503,2569616,facebook,socalcouponer.com,couponssmart.com,yahoo.com,startsiden.no,pinterest.com,search.com,instagram.com,google.com,aol.com,2065810,ask.com,None\n",
      "adServerId 10\n",
      "facebook,dcm,bing,1480887,atkins_ir,google,None,1451748,atkins_dcm,silverpop\n"
     ]
    }
   ],
   "source": [
    "for key in ad_keys:\n",
    "    items = set()\n",
    "    for index, lst_ads in data['advertisements'].iteritems():\n",
    "        lst_ads = json.loads(lst_ads)\n",
    "        for ad in lst_ads:\n",
    "            items.add(ad[0].get(key))\n",
    "    print key, len(items)\n",
    "    if len(items) < 50:\n",
    "        print ','.join([str(e) for e in items])"
   ]
  },
  {
   "cell_type": "code",
   "execution_count": 8,
   "metadata": {
    "collapsed": true
   },
   "outputs": [],
   "source": [
    "# initial select feature based on\n",
    "# 1) channel level attribution: (adPosition, adgroupId)\n",
    "# 2) feature diversity\n",
    "# 3) feature correlation: channel, rawChannel exactly correlated\n",
    "ad_ukeys = ['vendorId', 'deviceType', 'matchType', 'channel', 'action']\n",
    "\n",
    "ad_info = dict()\n",
    "for key in ad_ukeys:\n",
    "    items = set()\n",
    "    for index, lst_ads in data['advertisements'].iteritems():\n",
    "        lst_ads = json.loads(lst_ads)\n",
    "        for ad in lst_ads:\n",
    "            items.add(ad[0].get(key))\n",
    "    ad_info[key] = items"
   ]
  },
  {
   "cell_type": "code",
   "execution_count": 9,
   "metadata": {
    "collapsed": false
   },
   "outputs": [],
   "source": [
    "# dummy for the classes in each category\n",
    "add_feature = []\n",
    "for key, value in ad_info.items():\n",
    "    add_feature.extend([key+'_'+str(e) for e in value])\n",
    "    \n",
    "for key in add_feature:\n",
    "    data[key] = 0"
   ]
  },
  {
   "cell_type": "code",
   "execution_count": 10,
   "metadata": {
    "collapsed": false
   },
   "outputs": [],
   "source": [
    "# feature variables: the number of advertisements involved\n",
    "for index, lst_ads in data['advertisements'].iteritems():\n",
    "    lst_ads = json.loads(lst_ads)\n",
    "    for ad in lst_ads:\n",
    "        add_feature = []\n",
    "        for key in ad_ukeys:\n",
    "            add_feature.append(key+'_'+str(ad[0].get(key)))\n",
    "        data.ix[index, add_feature] += len(ad[1])"
   ]
  },
  {
   "cell_type": "markdown",
   "metadata": {},
   "source": [
    "### Extracts features from event_timestamp"
   ]
  },
  {
   "cell_type": "code",
   "execution_count": 11,
   "metadata": {
    "collapsed": false
   },
   "outputs": [],
   "source": [
    "from datetime import datetime\n",
    "\n",
    "def datetimeConverter(value, format):\n",
    "    try:\n",
    "        return datetime.strptime(value, format)\n",
    "    except (TypeError, ValueError) as e:\n",
    "        print e\n",
    "        return pd.NaT\n",
    "    \n",
    "data['event_timestamp'] = data['event_timestamp'].map(lambda x: datetimeConverter(x, '%Y-%m-%d %H:%M:%S.%f'))"
   ]
  },
  {
   "cell_type": "code",
   "execution_count": 12,
   "metadata": {
    "collapsed": false
   },
   "outputs": [
    {
     "data": {
      "text/plain": [
       "count                   50000\n",
       "unique                  49785\n",
       "top       2016-10-03 15:35:02\n",
       "freq                        6\n",
       "first     2016-07-27 22:19:50\n",
       "last      2017-01-12 02:19:08\n",
       "Name: event_timestamp, dtype: object"
      ]
     },
     "execution_count": 12,
     "metadata": {},
     "output_type": "execute_result"
    }
   ],
   "source": [
    "# event time range (2016-7-27 ~ 2017-01-12)\n",
    "data['event_timestamp'].describe()"
   ]
  },
  {
   "cell_type": "code",
   "execution_count": 13,
   "metadata": {
    "collapsed": true
   },
   "outputs": [],
   "source": [
    "# create features: timespan, year, hours of a day, month, day of week\n",
    "min_date = min(data['event_timestamp'])\n",
    "data['event_days'] = data['event_timestamp'].map(lambda x: x-min_date).map(lambda x: x.days)\n",
    "data['event_yr'] = data['event_timestamp'].map(lambda x: x.year-2016)\n",
    "data['event_hr'] = data['event_timestamp'].map(lambda x: x.hour + x.minute/60.0)\n",
    "data['event_month'] = data['event_timestamp'].map(lambda x: x.month)\n",
    "data['event_weekday'] = data['event_timestamp'].map(lambda x: x.weekday())"
   ]
  },
  {
   "cell_type": "code",
   "execution_count": 14,
   "metadata": {
    "collapsed": false
   },
   "outputs": [],
   "source": [
    "### Transformation of conversion_id as 0/1\n",
    "data.loc[data['conversion_id'].notnull(), 'conversion_id'] = 1\n",
    "data['conversion_id'] = data['conversion_id'].fillna(0)"
   ]
  },
  {
   "cell_type": "code",
   "execution_count": 15,
   "metadata": {
    "collapsed": false
   },
   "outputs": [],
   "source": [
    "data = data.drop(['user_id', 'event_timestamp', 'advertisements'], axis = 1)"
   ]
  },
  {
   "cell_type": "code",
   "execution_count": 16,
   "metadata": {
    "collapsed": false
   },
   "outputs": [
    {
     "data": {
      "text/html": [
       "<div>\n",
       "<table border=\"1\" class=\"dataframe\">\n",
       "  <thead>\n",
       "    <tr style=\"text-align: right;\">\n",
       "      <th></th>\n",
       "      <th>conversion_id</th>\n",
       "      <th>action_imp</th>\n",
       "      <th>action_None</th>\n",
       "      <th>action_click</th>\n",
       "      <th>vendorId_facebook</th>\n",
       "      <th>vendorId_google</th>\n",
       "      <th>vendorId_bing</th>\n",
       "      <th>vendorId_1480887</th>\n",
       "      <th>vendorId_atkins_ir</th>\n",
       "      <th>vendorId_None</th>\n",
       "      <th>...</th>\n",
       "      <th>channel_affiliate</th>\n",
       "      <th>channel_sem</th>\n",
       "      <th>channel_None</th>\n",
       "      <th>channel_display</th>\n",
       "      <th>channel_email-inferred</th>\n",
       "      <th>event_days</th>\n",
       "      <th>event_yr</th>\n",
       "      <th>event_hr</th>\n",
       "      <th>event_month</th>\n",
       "      <th>event_weekday</th>\n",
       "    </tr>\n",
       "  </thead>\n",
       "  <tbody>\n",
       "    <tr>\n",
       "      <th>count</th>\n",
       "      <td>50000.000000</td>\n",
       "      <td>50000.000000</td>\n",
       "      <td>50000.000000</td>\n",
       "      <td>50000.000000</td>\n",
       "      <td>50000.000000</td>\n",
       "      <td>50000.000000</td>\n",
       "      <td>50000.000000</td>\n",
       "      <td>50000.000000</td>\n",
       "      <td>50000.000000</td>\n",
       "      <td>50000.000000</td>\n",
       "      <td>...</td>\n",
       "      <td>50000.000000</td>\n",
       "      <td>50000.000000</td>\n",
       "      <td>50000.000000</td>\n",
       "      <td>50000.000000</td>\n",
       "      <td>50000.000000</td>\n",
       "      <td>50000.00000</td>\n",
       "      <td>50000.00000</td>\n",
       "      <td>50000.000000</td>\n",
       "      <td>50000.000000</td>\n",
       "      <td>50000.000000</td>\n",
       "    </tr>\n",
       "    <tr>\n",
       "      <th>mean</th>\n",
       "      <td>0.007700</td>\n",
       "      <td>0.907980</td>\n",
       "      <td>0.006360</td>\n",
       "      <td>0.158080</td>\n",
       "      <td>0.003380</td>\n",
       "      <td>0.018040</td>\n",
       "      <td>0.001660</td>\n",
       "      <td>0.659040</td>\n",
       "      <td>0.000020</td>\n",
       "      <td>0.137500</td>\n",
       "      <td>...</td>\n",
       "      <td>0.001840</td>\n",
       "      <td>0.018620</td>\n",
       "      <td>0.006360</td>\n",
       "      <td>0.897060</td>\n",
       "      <td>0.000060</td>\n",
       "      <td>61.90856</td>\n",
       "      <td>0.00144</td>\n",
       "      <td>12.183149</td>\n",
       "      <td>9.391800</td>\n",
       "      <td>2.932120</td>\n",
       "    </tr>\n",
       "    <tr>\n",
       "      <th>std</th>\n",
       "      <td>0.087412</td>\n",
       "      <td>0.684574</td>\n",
       "      <td>0.079496</td>\n",
       "      <td>0.516891</td>\n",
       "      <td>0.059065</td>\n",
       "      <td>0.144758</td>\n",
       "      <td>0.045796</td>\n",
       "      <td>0.718969</td>\n",
       "      <td>0.004472</td>\n",
       "      <td>0.482243</td>\n",
       "      <td>...</td>\n",
       "      <td>0.044684</td>\n",
       "      <td>0.148168</td>\n",
       "      <td>0.079496</td>\n",
       "      <td>0.690936</td>\n",
       "      <td>0.007746</td>\n",
       "      <td>33.17340</td>\n",
       "      <td>0.03792</td>\n",
       "      <td>7.086649</td>\n",
       "      <td>1.144971</td>\n",
       "      <td>1.989701</td>\n",
       "    </tr>\n",
       "    <tr>\n",
       "      <th>min</th>\n",
       "      <td>0.000000</td>\n",
       "      <td>0.000000</td>\n",
       "      <td>0.000000</td>\n",
       "      <td>0.000000</td>\n",
       "      <td>0.000000</td>\n",
       "      <td>0.000000</td>\n",
       "      <td>0.000000</td>\n",
       "      <td>0.000000</td>\n",
       "      <td>0.000000</td>\n",
       "      <td>0.000000</td>\n",
       "      <td>...</td>\n",
       "      <td>0.000000</td>\n",
       "      <td>0.000000</td>\n",
       "      <td>0.000000</td>\n",
       "      <td>0.000000</td>\n",
       "      <td>0.000000</td>\n",
       "      <td>0.00000</td>\n",
       "      <td>0.00000</td>\n",
       "      <td>0.000000</td>\n",
       "      <td>1.000000</td>\n",
       "      <td>0.000000</td>\n",
       "    </tr>\n",
       "    <tr>\n",
       "      <th>25%</th>\n",
       "      <td>0.000000</td>\n",
       "      <td>1.000000</td>\n",
       "      <td>0.000000</td>\n",
       "      <td>0.000000</td>\n",
       "      <td>0.000000</td>\n",
       "      <td>0.000000</td>\n",
       "      <td>0.000000</td>\n",
       "      <td>0.000000</td>\n",
       "      <td>0.000000</td>\n",
       "      <td>0.000000</td>\n",
       "      <td>...</td>\n",
       "      <td>0.000000</td>\n",
       "      <td>0.000000</td>\n",
       "      <td>0.000000</td>\n",
       "      <td>1.000000</td>\n",
       "      <td>0.000000</td>\n",
       "      <td>42.00000</td>\n",
       "      <td>0.00000</td>\n",
       "      <td>5.416667</td>\n",
       "      <td>9.000000</td>\n",
       "      <td>1.000000</td>\n",
       "    </tr>\n",
       "    <tr>\n",
       "      <th>50%</th>\n",
       "      <td>0.000000</td>\n",
       "      <td>1.000000</td>\n",
       "      <td>0.000000</td>\n",
       "      <td>0.000000</td>\n",
       "      <td>0.000000</td>\n",
       "      <td>0.000000</td>\n",
       "      <td>0.000000</td>\n",
       "      <td>1.000000</td>\n",
       "      <td>0.000000</td>\n",
       "      <td>0.000000</td>\n",
       "      <td>...</td>\n",
       "      <td>0.000000</td>\n",
       "      <td>0.000000</td>\n",
       "      <td>0.000000</td>\n",
       "      <td>1.000000</td>\n",
       "      <td>0.000000</td>\n",
       "      <td>59.00000</td>\n",
       "      <td>0.00000</td>\n",
       "      <td>13.316667</td>\n",
       "      <td>9.000000</td>\n",
       "      <td>3.000000</td>\n",
       "    </tr>\n",
       "    <tr>\n",
       "      <th>75%</th>\n",
       "      <td>0.000000</td>\n",
       "      <td>1.000000</td>\n",
       "      <td>0.000000</td>\n",
       "      <td>0.000000</td>\n",
       "      <td>0.000000</td>\n",
       "      <td>0.000000</td>\n",
       "      <td>0.000000</td>\n",
       "      <td>1.000000</td>\n",
       "      <td>0.000000</td>\n",
       "      <td>0.000000</td>\n",
       "      <td>...</td>\n",
       "      <td>0.000000</td>\n",
       "      <td>0.000000</td>\n",
       "      <td>0.000000</td>\n",
       "      <td>1.000000</td>\n",
       "      <td>0.000000</td>\n",
       "      <td>83.00000</td>\n",
       "      <td>0.00000</td>\n",
       "      <td>18.183333</td>\n",
       "      <td>10.000000</td>\n",
       "      <td>5.000000</td>\n",
       "    </tr>\n",
       "    <tr>\n",
       "      <th>max</th>\n",
       "      <td>1.000000</td>\n",
       "      <td>58.000000</td>\n",
       "      <td>1.000000</td>\n",
       "      <td>25.000000</td>\n",
       "      <td>2.000000</td>\n",
       "      <td>5.000000</td>\n",
       "      <td>3.000000</td>\n",
       "      <td>28.000000</td>\n",
       "      <td>1.000000</td>\n",
       "      <td>23.000000</td>\n",
       "      <td>...</td>\n",
       "      <td>2.000000</td>\n",
       "      <td>5.000000</td>\n",
       "      <td>1.000000</td>\n",
       "      <td>58.000000</td>\n",
       "      <td>1.000000</td>\n",
       "      <td>168.00000</td>\n",
       "      <td>1.00000</td>\n",
       "      <td>23.983333</td>\n",
       "      <td>12.000000</td>\n",
       "      <td>6.000000</td>\n",
       "    </tr>\n",
       "  </tbody>\n",
       "</table>\n",
       "<p>8 rows × 37 columns</p>\n",
       "</div>"
      ],
      "text/plain": [
       "       conversion_id    action_imp   action_None  action_click  \\\n",
       "count   50000.000000  50000.000000  50000.000000  50000.000000   \n",
       "mean        0.007700      0.907980      0.006360      0.158080   \n",
       "std         0.087412      0.684574      0.079496      0.516891   \n",
       "min         0.000000      0.000000      0.000000      0.000000   \n",
       "25%         0.000000      1.000000      0.000000      0.000000   \n",
       "50%         0.000000      1.000000      0.000000      0.000000   \n",
       "75%         0.000000      1.000000      0.000000      0.000000   \n",
       "max         1.000000     58.000000      1.000000     25.000000   \n",
       "\n",
       "       vendorId_facebook  vendorId_google  vendorId_bing  vendorId_1480887  \\\n",
       "count       50000.000000     50000.000000   50000.000000      50000.000000   \n",
       "mean            0.003380         0.018040       0.001660          0.659040   \n",
       "std             0.059065         0.144758       0.045796          0.718969   \n",
       "min             0.000000         0.000000       0.000000          0.000000   \n",
       "25%             0.000000         0.000000       0.000000          0.000000   \n",
       "50%             0.000000         0.000000       0.000000          1.000000   \n",
       "75%             0.000000         0.000000       0.000000          1.000000   \n",
       "max             2.000000         5.000000       3.000000         28.000000   \n",
       "\n",
       "       vendorId_atkins_ir  vendorId_None      ...        channel_affiliate  \\\n",
       "count        50000.000000   50000.000000      ...             50000.000000   \n",
       "mean             0.000020       0.137500      ...                 0.001840   \n",
       "std              0.004472       0.482243      ...                 0.044684   \n",
       "min              0.000000       0.000000      ...                 0.000000   \n",
       "25%              0.000000       0.000000      ...                 0.000000   \n",
       "50%              0.000000       0.000000      ...                 0.000000   \n",
       "75%              0.000000       0.000000      ...                 0.000000   \n",
       "max              1.000000      23.000000      ...                 2.000000   \n",
       "\n",
       "        channel_sem  channel_None  channel_display  channel_email-inferred  \\\n",
       "count  50000.000000  50000.000000     50000.000000            50000.000000   \n",
       "mean       0.018620      0.006360         0.897060                0.000060   \n",
       "std        0.148168      0.079496         0.690936                0.007746   \n",
       "min        0.000000      0.000000         0.000000                0.000000   \n",
       "25%        0.000000      0.000000         1.000000                0.000000   \n",
       "50%        0.000000      0.000000         1.000000                0.000000   \n",
       "75%        0.000000      0.000000         1.000000                0.000000   \n",
       "max        5.000000      1.000000        58.000000                1.000000   \n",
       "\n",
       "        event_days     event_yr      event_hr   event_month  event_weekday  \n",
       "count  50000.00000  50000.00000  50000.000000  50000.000000   50000.000000  \n",
       "mean      61.90856      0.00144     12.183149      9.391800       2.932120  \n",
       "std       33.17340      0.03792      7.086649      1.144971       1.989701  \n",
       "min        0.00000      0.00000      0.000000      1.000000       0.000000  \n",
       "25%       42.00000      0.00000      5.416667      9.000000       1.000000  \n",
       "50%       59.00000      0.00000     13.316667      9.000000       3.000000  \n",
       "75%       83.00000      0.00000     18.183333     10.000000       5.000000  \n",
       "max      168.00000      1.00000     23.983333     12.000000       6.000000  \n",
       "\n",
       "[8 rows x 37 columns]"
      ]
     },
     "execution_count": 16,
     "metadata": {},
     "output_type": "execute_result"
    }
   ],
   "source": [
    "data.describe()"
   ]
  },
  {
   "cell_type": "code",
   "execution_count": 17,
   "metadata": {
    "collapsed": false
   },
   "outputs": [
    {
     "name": "stderr",
     "output_type": "stream",
     "text": [
      "/Users/didle/OtherSoftwares/anaconda2/lib/python2.7/site-packages/matplotlib/figure.py:397: UserWarning: matplotlib is currently using a non-GUI backend, so cannot show the figure\n",
      "  \"matplotlib is currently using a non-GUI backend, \"\n"
     ]
    },
    {
     "data": {
      "image/png": "[encoded data removed]",
      "text/plain": [
       "<matplotlib.figure.Figure at 0x1166dfa90>"
      ]
     },
     "metadata": {},
     "output_type": "display_data"
    }
   ],
   "source": [
    "# Explore the distribution of each feature\n",
    "# Pie plot usually is not for contineous variables, but here it looks fine\n",
    "fig = plt.figure(figsize=[20,8])\n",
    "nrow = 6\n",
    "ncol = 6\n",
    "\n",
    "i = 0\n",
    "for key in list(data.columns.values):\n",
    "    if key not in ['conversion_id','event_days', 'event_hr']:\n",
    "        fig.add_subplot(nrow, ncol, i+1)\n",
    "        i = i+1\n",
    "        data[key].value_counts().plot.pie(title=key+': '+str(len(set(data[key]))), use_index = False)\n",
    "fig.add_subplot(nrow, ncol, i+1)\n",
    "data['event_days'].plot.hist(title = 'event_days', use_index = False)\n",
    "fig.add_subplot(nrow, ncol, i+2)\n",
    "data['event_hr'].plot.hist(title = 'event_hr', use_index = False)\n",
    "fig.show()"
   ]
  },
  {
   "cell_type": "code",
   "execution_count": 18,
   "metadata": {
    "collapsed": false
   },
   "outputs": [
    {
     "data": {
      "text/html": [
       "<div>\n",
       "<table border=\"1\" class=\"dataframe\">\n",
       "  <thead>\n",
       "    <tr style=\"text-align: right;\">\n",
       "      <th></th>\n",
       "      <th>level_0</th>\n",
       "      <th>level_1</th>\n",
       "      <th>corr</th>\n",
       "    </tr>\n",
       "  </thead>\n",
       "  <tbody>\n",
       "    <tr>\n",
       "      <th>20</th>\n",
       "      <td>conversion_id</td>\n",
       "      <td>deviceType_None</td>\n",
       "      <td>0.902508</td>\n",
       "    </tr>\n",
       "    <tr>\n",
       "      <th>67</th>\n",
       "      <td>action_imp</td>\n",
       "      <td>channel_display</td>\n",
       "      <td>0.985665</td>\n",
       "    </tr>\n",
       "    <tr>\n",
       "      <th>74</th>\n",
       "      <td>action_None</td>\n",
       "      <td>conversion_id</td>\n",
       "      <td>0.908218</td>\n",
       "    </tr>\n",
       "    <tr>\n",
       "      <th>94</th>\n",
       "      <td>action_None</td>\n",
       "      <td>deviceType_None</td>\n",
       "      <td>0.993729</td>\n",
       "    </tr>\n",
       "    <tr>\n",
       "      <th>103</th>\n",
       "      <td>action_None</td>\n",
       "      <td>channel_None</td>\n",
       "      <td>1.000000</td>\n",
       "    </tr>\n",
       "    <tr>\n",
       "      <th>120</th>\n",
       "      <td>action_click</td>\n",
       "      <td>vendorId_None</td>\n",
       "      <td>0.927073</td>\n",
       "    </tr>\n",
       "    <tr>\n",
       "      <th>486</th>\n",
       "      <td>matchType_exact</td>\n",
       "      <td>vendorId_google</td>\n",
       "      <td>0.918137</td>\n",
       "    </tr>\n",
       "    <tr>\n",
       "      <th>823</th>\n",
       "      <td>channel_search</td>\n",
       "      <td>vendorId_None</td>\n",
       "      <td>0.941679</td>\n",
       "    </tr>\n",
       "    <tr>\n",
       "      <th>900</th>\n",
       "      <td>channel_email</td>\n",
       "      <td>vendorId_silverpop</td>\n",
       "      <td>1.000000</td>\n",
       "    </tr>\n",
       "    <tr>\n",
       "      <th>966</th>\n",
       "      <td>channel_social</td>\n",
       "      <td>vendorId_facebook</td>\n",
       "      <td>1.000000</td>\n",
       "    </tr>\n",
       "    <tr>\n",
       "      <th>1041</th>\n",
       "      <td>channel_sem</td>\n",
       "      <td>vendorId_google</td>\n",
       "      <td>0.924281</td>\n",
       "    </tr>\n",
       "    <tr>\n",
       "      <th>1049</th>\n",
       "      <td>channel_sem</td>\n",
       "      <td>matchType_exact</td>\n",
       "      <td>0.994520</td>\n",
       "    </tr>\n",
       "    <tr>\n",
       "      <th>1073</th>\n",
       "      <td>channel_None</td>\n",
       "      <td>conversion_id</td>\n",
       "      <td>0.908218</td>\n",
       "    </tr>\n",
       "    <tr>\n",
       "      <th>1093</th>\n",
       "      <td>channel_None</td>\n",
       "      <td>deviceType_None</td>\n",
       "      <td>0.993729</td>\n",
       "    </tr>\n",
       "  </tbody>\n",
       "</table>\n",
       "</div>"
      ],
      "text/plain": [
       "              level_0             level_1      corr\n",
       "20      conversion_id     deviceType_None  0.902508\n",
       "67         action_imp     channel_display  0.985665\n",
       "74        action_None       conversion_id  0.908218\n",
       "94        action_None     deviceType_None  0.993729\n",
       "103       action_None        channel_None  1.000000\n",
       "120      action_click       vendorId_None  0.927073\n",
       "486   matchType_exact     vendorId_google  0.918137\n",
       "823    channel_search       vendorId_None  0.941679\n",
       "900     channel_email  vendorId_silverpop  1.000000\n",
       "966    channel_social   vendorId_facebook  1.000000\n",
       "1041      channel_sem     vendorId_google  0.924281\n",
       "1049      channel_sem     matchType_exact  0.994520\n",
       "1073     channel_None       conversion_id  0.908218\n",
       "1093     channel_None     deviceType_None  0.993729"
      ]
     },
     "execution_count": 18,
     "metadata": {},
     "output_type": "execute_result"
    }
   ],
   "source": [
    "# the correlation among features\n",
    "cor_matrix = data.corr().stack()\n",
    "cor_matrix = cor_matrix.reset_index()\n",
    "cor_matrix.columns = ['level_0', 'level_1', 'corr']\n",
    "cor_matrix.loc[(cor_matrix['level_0'] < cor_matrix['level_1']) & (abs(cor_matrix['corr']) >= 0.9), :]"
   ]
  },
  {
   "cell_type": "code",
   "execution_count": 19,
   "metadata": {
    "collapsed": false
   },
   "outputs": [
    {
     "data": {
      "text/html": [
       "<div>\n",
       "<table border=\"1\" class=\"dataframe\">\n",
       "  <thead>\n",
       "    <tr style=\"text-align: right;\">\n",
       "      <th></th>\n",
       "      <th>conversion_id</th>\n",
       "      <th>action_imp</th>\n",
       "      <th>action_click</th>\n",
       "      <th>vendorId_google</th>\n",
       "      <th>vendorId_bing</th>\n",
       "      <th>vendorId_1480887</th>\n",
       "      <th>vendorId_atkins_ir</th>\n",
       "      <th>vendorId_None</th>\n",
       "      <th>vendorId_1451748</th>\n",
       "      <th>vendorId_atkins_dcm</th>\n",
       "      <th>...</th>\n",
       "      <th>channel_affiliate</th>\n",
       "      <th>channel_sem</th>\n",
       "      <th>channel_None</th>\n",
       "      <th>channel_display</th>\n",
       "      <th>channel_email-inferred</th>\n",
       "      <th>event_days</th>\n",
       "      <th>event_yr</th>\n",
       "      <th>event_hr</th>\n",
       "      <th>event_month</th>\n",
       "      <th>event_weekday</th>\n",
       "    </tr>\n",
       "  </thead>\n",
       "  <tbody>\n",
       "    <tr>\n",
       "      <th>0</th>\n",
       "      <td>0</td>\n",
       "      <td>1</td>\n",
       "      <td>0</td>\n",
       "      <td>0</td>\n",
       "      <td>0</td>\n",
       "      <td>1</td>\n",
       "      <td>0</td>\n",
       "      <td>0</td>\n",
       "      <td>0</td>\n",
       "      <td>0</td>\n",
       "      <td>...</td>\n",
       "      <td>0</td>\n",
       "      <td>0</td>\n",
       "      <td>0</td>\n",
       "      <td>1</td>\n",
       "      <td>0</td>\n",
       "      <td>46</td>\n",
       "      <td>0</td>\n",
       "      <td>17.700000</td>\n",
       "      <td>9</td>\n",
       "      <td>0</td>\n",
       "    </tr>\n",
       "    <tr>\n",
       "      <th>1</th>\n",
       "      <td>0</td>\n",
       "      <td>0</td>\n",
       "      <td>1</td>\n",
       "      <td>0</td>\n",
       "      <td>0</td>\n",
       "      <td>0</td>\n",
       "      <td>0</td>\n",
       "      <td>1</td>\n",
       "      <td>0</td>\n",
       "      <td>0</td>\n",
       "      <td>...</td>\n",
       "      <td>0</td>\n",
       "      <td>0</td>\n",
       "      <td>0</td>\n",
       "      <td>0</td>\n",
       "      <td>0</td>\n",
       "      <td>74</td>\n",
       "      <td>0</td>\n",
       "      <td>15.733333</td>\n",
       "      <td>10</td>\n",
       "      <td>0</td>\n",
       "    </tr>\n",
       "    <tr>\n",
       "      <th>2</th>\n",
       "      <td>0</td>\n",
       "      <td>1</td>\n",
       "      <td>0</td>\n",
       "      <td>0</td>\n",
       "      <td>0</td>\n",
       "      <td>1</td>\n",
       "      <td>0</td>\n",
       "      <td>0</td>\n",
       "      <td>0</td>\n",
       "      <td>0</td>\n",
       "      <td>...</td>\n",
       "      <td>0</td>\n",
       "      <td>0</td>\n",
       "      <td>0</td>\n",
       "      <td>1</td>\n",
       "      <td>0</td>\n",
       "      <td>27</td>\n",
       "      <td>0</td>\n",
       "      <td>5.450000</td>\n",
       "      <td>8</td>\n",
       "      <td>2</td>\n",
       "    </tr>\n",
       "  </tbody>\n",
       "</table>\n",
       "<p>3 rows × 34 columns</p>\n",
       "</div>"
      ],
      "text/plain": [
       "   conversion_id  action_imp  action_click  vendorId_google  vendorId_bing  \\\n",
       "0              0           1             0                0              0   \n",
       "1              0           0             1                0              0   \n",
       "2              0           1             0                0              0   \n",
       "\n",
       "   vendorId_1480887  vendorId_atkins_ir  vendorId_None  vendorId_1451748  \\\n",
       "0                 1                   0              0                 0   \n",
       "1                 0                   0              1                 0   \n",
       "2                 1                   0              0                 0   \n",
       "\n",
       "   vendorId_atkins_dcm      ...        channel_affiliate  channel_sem  \\\n",
       "0                    0      ...                        0            0   \n",
       "1                    0      ...                        0            0   \n",
       "2                    0      ...                        0            0   \n",
       "\n",
       "   channel_None  channel_display  channel_email-inferred  event_days  \\\n",
       "0             0                1                       0          46   \n",
       "1             0                0                       0          74   \n",
       "2             0                1                       0          27   \n",
       "\n",
       "   event_yr   event_hr  event_month  event_weekday  \n",
       "0         0  17.700000            9              0  \n",
       "1         0  15.733333           10              0  \n",
       "2         0   5.450000            8              2  \n",
       "\n",
       "[3 rows x 34 columns]"
      ]
     },
     "execution_count": 19,
     "metadata": {},
     "output_type": "execute_result"
    }
   ],
   "source": [
    "# remove features from exactly correlated feature pairs\n",
    "data = data.drop(['action_None', 'vendorId_facebook', 'vendorId_silverpop'], axis = 1)\n",
    "data.head(3)\n",
    "#action_None\tchannel_None\n",
    "#vendorId_facebook\tchannel_social\n",
    "#vendorId_silverpop\tchannel_email"
   ]
  },
  {
   "cell_type": "code",
   "execution_count": 20,
   "metadata": {
    "collapsed": false
   },
   "outputs": [
    {
     "data": {
      "text/html": [
       "<div>\n",
       "<table border=\"1\" class=\"dataframe\">\n",
       "  <thead>\n",
       "    <tr style=\"text-align: right;\">\n",
       "      <th></th>\n",
       "      <th>level_0</th>\n",
       "      <th>level_1</th>\n",
       "      <th>corr</th>\n",
       "    </tr>\n",
       "  </thead>\n",
       "  <tbody>\n",
       "    <tr>\n",
       "      <th>0</th>\n",
       "      <td>conversion_id</td>\n",
       "      <td>conversion_id</td>\n",
       "      <td>1.000000</td>\n",
       "    </tr>\n",
       "    <tr>\n",
       "      <th>2</th>\n",
       "      <td>conversion_id</td>\n",
       "      <td>action_None</td>\n",
       "      <td>0.908218</td>\n",
       "    </tr>\n",
       "    <tr>\n",
       "      <th>29</th>\n",
       "      <td>conversion_id</td>\n",
       "      <td>channel_None</td>\n",
       "      <td>0.908218</td>\n",
       "    </tr>\n",
       "    <tr>\n",
       "      <th>20</th>\n",
       "      <td>conversion_id</td>\n",
       "      <td>deviceType_None</td>\n",
       "      <td>0.902508</td>\n",
       "    </tr>\n",
       "    <tr>\n",
       "      <th>33</th>\n",
       "      <td>conversion_id</td>\n",
       "      <td>event_yr</td>\n",
       "      <td>0.431092</td>\n",
       "    </tr>\n",
       "    <tr>\n",
       "      <th>9</th>\n",
       "      <td>conversion_id</td>\n",
       "      <td>vendorId_None</td>\n",
       "      <td>0.145215</td>\n",
       "    </tr>\n",
       "    <tr>\n",
       "      <th>32</th>\n",
       "      <td>conversion_id</td>\n",
       "      <td>event_days</td>\n",
       "      <td>0.082334</td>\n",
       "    </tr>\n",
       "    <tr>\n",
       "      <th>27</th>\n",
       "      <td>conversion_id</td>\n",
       "      <td>channel_affiliate</td>\n",
       "      <td>0.047578</td>\n",
       "    </tr>\n",
       "    <tr>\n",
       "      <th>13</th>\n",
       "      <td>conversion_id</td>\n",
       "      <td>matchType_exact</td>\n",
       "      <td>0.020040</td>\n",
       "    </tr>\n",
       "    <tr>\n",
       "      <th>28</th>\n",
       "      <td>conversion_id</td>\n",
       "      <td>channel_sem</td>\n",
       "      <td>0.019815</td>\n",
       "    </tr>\n",
       "    <tr>\n",
       "      <th>5</th>\n",
       "      <td>conversion_id</td>\n",
       "      <td>vendorId_google</td>\n",
       "      <td>0.019054</td>\n",
       "    </tr>\n",
       "    <tr>\n",
       "      <th>23</th>\n",
       "      <td>conversion_id</td>\n",
       "      <td>channel_affiliate-inferred</td>\n",
       "      <td>0.015874</td>\n",
       "    </tr>\n",
       "    <tr>\n",
       "      <th>34</th>\n",
       "      <td>conversion_id</td>\n",
       "      <td>event_hr</td>\n",
       "      <td>0.008768</td>\n",
       "    </tr>\n",
       "    <tr>\n",
       "      <th>6</th>\n",
       "      <td>conversion_id</td>\n",
       "      <td>vendorId_bing</td>\n",
       "      <td>0.006799</td>\n",
       "    </tr>\n",
       "    <tr>\n",
       "      <th>3</th>\n",
       "      <td>conversion_id</td>\n",
       "      <td>action_click</td>\n",
       "      <td>0.005816</td>\n",
       "    </tr>\n",
       "    <tr>\n",
       "      <th>4</th>\n",
       "      <td>conversion_id</td>\n",
       "      <td>vendorId_facebook</td>\n",
       "      <td>0.002707</td>\n",
       "    </tr>\n",
       "    <tr>\n",
       "      <th>26</th>\n",
       "      <td>conversion_id</td>\n",
       "      <td>channel_social</td>\n",
       "      <td>0.002707</td>\n",
       "    </tr>\n",
       "    <tr>\n",
       "      <th>8</th>\n",
       "      <td>conversion_id</td>\n",
       "      <td>vendorId_atkins_ir</td>\n",
       "      <td>-0.000394</td>\n",
       "    </tr>\n",
       "    <tr>\n",
       "      <th>31</th>\n",
       "      <td>conversion_id</td>\n",
       "      <td>channel_email-inferred</td>\n",
       "      <td>-0.000682</td>\n",
       "    </tr>\n",
       "    <tr>\n",
       "      <th>14</th>\n",
       "      <td>conversion_id</td>\n",
       "      <td>matchType_broad</td>\n",
       "      <td>-0.001137</td>\n",
       "    </tr>\n",
       "    <tr>\n",
       "      <th>21</th>\n",
       "      <td>conversion_id</td>\n",
       "      <td>deviceType_Game console</td>\n",
       "      <td>-0.001806</td>\n",
       "    </tr>\n",
       "    <tr>\n",
       "      <th>25</th>\n",
       "      <td>conversion_id</td>\n",
       "      <td>channel_social-inferred</td>\n",
       "      <td>-0.003188</td>\n",
       "    </tr>\n",
       "    <tr>\n",
       "      <th>22</th>\n",
       "      <td>conversion_id</td>\n",
       "      <td>channel_search</td>\n",
       "      <td>-0.004240</td>\n",
       "    </tr>\n",
       "    <tr>\n",
       "      <th>15</th>\n",
       "      <td>conversion_id</td>\n",
       "      <td>matchType_None</td>\n",
       "      <td>-0.007936</td>\n",
       "    </tr>\n",
       "    <tr>\n",
       "      <th>18</th>\n",
       "      <td>conversion_id</td>\n",
       "      <td>deviceType_Unknown</td>\n",
       "      <td>-0.008474</td>\n",
       "    </tr>\n",
       "    <tr>\n",
       "      <th>24</th>\n",
       "      <td>conversion_id</td>\n",
       "      <td>channel_email</td>\n",
       "      <td>-0.010185</td>\n",
       "    </tr>\n",
       "    <tr>\n",
       "      <th>12</th>\n",
       "      <td>conversion_id</td>\n",
       "      <td>vendorId_silverpop</td>\n",
       "      <td>-0.010185</td>\n",
       "    </tr>\n",
       "    <tr>\n",
       "      <th>16</th>\n",
       "      <td>conversion_id</td>\n",
       "      <td>deviceType_Tablet</td>\n",
       "      <td>-0.013195</td>\n",
       "    </tr>\n",
       "    <tr>\n",
       "      <th>36</th>\n",
       "      <td>conversion_id</td>\n",
       "      <td>event_weekday</td>\n",
       "      <td>-0.013899</td>\n",
       "    </tr>\n",
       "    <tr>\n",
       "      <th>10</th>\n",
       "      <td>conversion_id</td>\n",
       "      <td>vendorId_1451748</td>\n",
       "      <td>-0.022350</td>\n",
       "    </tr>\n",
       "    <tr>\n",
       "      <th>11</th>\n",
       "      <td>conversion_id</td>\n",
       "      <td>vendorId_atkins_dcm</td>\n",
       "      <td>-0.025019</td>\n",
       "    </tr>\n",
       "    <tr>\n",
       "      <th>17</th>\n",
       "      <td>conversion_id</td>\n",
       "      <td>deviceType_Mobile</td>\n",
       "      <td>-0.030278</td>\n",
       "    </tr>\n",
       "    <tr>\n",
       "      <th>19</th>\n",
       "      <td>conversion_id</td>\n",
       "      <td>deviceType_Computer</td>\n",
       "      <td>-0.068092</td>\n",
       "    </tr>\n",
       "    <tr>\n",
       "      <th>7</th>\n",
       "      <td>conversion_id</td>\n",
       "      <td>vendorId_1480887</td>\n",
       "      <td>-0.078838</td>\n",
       "    </tr>\n",
       "    <tr>\n",
       "      <th>35</th>\n",
       "      <td>conversion_id</td>\n",
       "      <td>event_month</td>\n",
       "      <td>-0.091893</td>\n",
       "    </tr>\n",
       "    <tr>\n",
       "      <th>30</th>\n",
       "      <td>conversion_id</td>\n",
       "      <td>channel_display</td>\n",
       "      <td>-0.110727</td>\n",
       "    </tr>\n",
       "    <tr>\n",
       "      <th>1</th>\n",
       "      <td>conversion_id</td>\n",
       "      <td>action_imp</td>\n",
       "      <td>-0.113496</td>\n",
       "    </tr>\n",
       "  </tbody>\n",
       "</table>\n",
       "</div>"
      ],
      "text/plain": [
       "          level_0                     level_1      corr\n",
       "0   conversion_id               conversion_id  1.000000\n",
       "2   conversion_id                 action_None  0.908218\n",
       "29  conversion_id                channel_None  0.908218\n",
       "20  conversion_id             deviceType_None  0.902508\n",
       "33  conversion_id                    event_yr  0.431092\n",
       "9   conversion_id               vendorId_None  0.145215\n",
       "32  conversion_id                  event_days  0.082334\n",
       "27  conversion_id           channel_affiliate  0.047578\n",
       "13  conversion_id             matchType_exact  0.020040\n",
       "28  conversion_id                 channel_sem  0.019815\n",
       "5   conversion_id             vendorId_google  0.019054\n",
       "23  conversion_id  channel_affiliate-inferred  0.015874\n",
       "34  conversion_id                    event_hr  0.008768\n",
       "6   conversion_id               vendorId_bing  0.006799\n",
       "3   conversion_id                action_click  0.005816\n",
       "4   conversion_id           vendorId_facebook  0.002707\n",
       "26  conversion_id              channel_social  0.002707\n",
       "8   conversion_id          vendorId_atkins_ir -0.000394\n",
       "31  conversion_id      channel_email-inferred -0.000682\n",
       "14  conversion_id             matchType_broad -0.001137\n",
       "21  conversion_id     deviceType_Game console -0.001806\n",
       "25  conversion_id     channel_social-inferred -0.003188\n",
       "22  conversion_id              channel_search -0.004240\n",
       "15  conversion_id              matchType_None -0.007936\n",
       "18  conversion_id          deviceType_Unknown -0.008474\n",
       "24  conversion_id               channel_email -0.010185\n",
       "12  conversion_id          vendorId_silverpop -0.010185\n",
       "16  conversion_id           deviceType_Tablet -0.013195\n",
       "36  conversion_id               event_weekday -0.013899\n",
       "10  conversion_id            vendorId_1451748 -0.022350\n",
       "11  conversion_id         vendorId_atkins_dcm -0.025019\n",
       "17  conversion_id           deviceType_Mobile -0.030278\n",
       "19  conversion_id         deviceType_Computer -0.068092\n",
       "7   conversion_id            vendorId_1480887 -0.078838\n",
       "35  conversion_id                 event_month -0.091893\n",
       "30  conversion_id             channel_display -0.110727\n",
       "1   conversion_id                  action_imp -0.113496"
      ]
     },
     "execution_count": 20,
     "metadata": {},
     "output_type": "execute_result"
    }
   ],
   "source": [
    "# the correlation between features and target\n",
    "cor_matrix.loc[cor_matrix['level_0'] == 'conversion_id', :].sort_values('corr', ascending=False)"
   ]
  },
  {
   "cell_type": "code",
   "execution_count": 21,
   "metadata": {
    "collapsed": false
   },
   "outputs": [],
   "source": [
    "# One-hot encoding for event_month, event_weekday\n",
    "# For the limitation of time, I didn't train the model based on OHE data\n",
    "# More models with different processed data can be added to increase the model diversity\n",
    "from sklearn import preprocessing\n",
    "OHE = preprocessing.OneHotEncoder(sparse=False)\n",
    "data_ohe = OHE.fit_transform(data[['event_month', 'event_weekday']])"
   ]
  },
  {
   "cell_type": "code",
   "execution_count": 22,
   "metadata": {
    "collapsed": false
   },
   "outputs": [],
   "source": [
    "data_y = data['conversion_id'].values\n",
    "data = data.iloc[:,1:]"
   ]
  },
  {
   "cell_type": "code",
   "execution_count": 33,
   "metadata": {
    "collapsed": false
   },
   "outputs": [
    {
     "name": "stdout",
     "output_type": "stream",
     "text": [
      "(50000, 33) (50000, 45)\n"
     ]
    }
   ],
   "source": [
    "data_X = data.values\n",
    "data_Xohe = np.concatenate((data.iloc[:,:-2].values, data_ohe), axis = 1)\n",
    "print data_X.shape, data_Xohe.shape"
   ]
  },
  {
   "cell_type": "markdown",
   "metadata": {},
   "source": [
    "# Modeling"
   ]
  },
  {
   "cell_type": "code",
   "execution_count": 34,
   "metadata": {
    "collapsed": false
   },
   "outputs": [],
   "source": [
    "from sklearn import metrics\n",
    "from sklearn.cross_validation import StratifiedKFold\n",
    "from sklearn import ensemble\n",
    "import xgboost as xgb"
   ]
  },
  {
   "cell_type": "code",
   "execution_count": 35,
   "metadata": {
    "collapsed": true
   },
   "outputs": [],
   "source": [
    "# Set n_folds = 2 to save time for mannually tunning\n",
    "skf = StratifiedKFold(data_y, n_folds=2, shuffle=True, random_state=535)"
   ]
  },
  {
   "cell_type": "markdown",
   "metadata": {},
   "source": [
    "## Random Forest\n",
    "### 1. mannual tunning: max_depth, max_features, min_samples_leaf"
   ]
  },
  {
   "cell_type": "code",
   "execution_count": 39,
   "metadata": {
    "collapsed": false
   },
   "outputs": [
    {
     "name": "stdout",
     "output_type": "stream",
     "text": [
      "1 0.986948464213\n",
      "5 0.986910614328\n",
      "10 0.986876586076\n",
      "25 0.986669589606\n",
      "50 0.98622408127\n",
      "100 0.985913874496\n",
      "200 0.981983506768\n"
     ]
    }
   ],
   "source": [
    "max_depth = 6 # AUC: 0.986439401574\n",
    "max_features = 1.0 # AUC: 0.986488506958\n",
    "min_samples_leaf = 1 # AUC: 0.986948464213\n",
    "for val in [1, 5, 10, 25, 50, 100, 200]:\n",
    "    clf = ensemble.RandomForestClassifier(n_estimators=1000, max_depth = max_depth, max_features = max_features,\\\n",
    "        min_samples_leaf = val, random_state=155, class_weight='balanced', verbose = 0, n_jobs =-1)\n",
    "    pred = np.zeros((data_y.shape[0]))\n",
    "    for itrain, itest in skf:\n",
    "        Xtr, Xte = data_X[itrain, :], data_X[itest, :]\n",
    "        ytr, yte = data_y[itrain], data_y[itest]\n",
    "        clf.fit(Xtr, ytr)\n",
    "        pred[itest] = clf.predict_proba(Xte)[:,1]\n",
    "    print val, metrics.roc_auc_score(data_y, pred)"
   ]
  },
  {
   "cell_type": "code",
   "execution_count": 37,
   "metadata": {
    "collapsed": false
   },
   "outputs": [
    {
     "data": {
      "text/plain": [
       "[(0.16356024971852928, 'action_imp'),\n",
       " (0.16194613966211699, 'channel_None'),\n",
       " (0.14012653934158589, 'channel_display'),\n",
       " (0.1367794479428194, 'deviceType_None'),\n",
       " (0.10324319286532714, 'vendorId_None'),\n",
       " (0.053100401014192118, 'vendorId_1480887'),\n",
       " (0.039906509800401536, 'deviceType_Computer'),\n",
       " (0.038462734736275053, 'event_days'),\n",
       " (0.03185322439867571, 'action_click'),\n",
       " (0.019641991412679919, 'event_hr'),\n",
       " (0.018317262126643762, 'deviceType_Mobile'),\n",
       " (0.016665765475950643, 'channel_search'),\n",
       " (0.01550892134204772, 'event_month'),\n",
       " (0.012016906022989325, 'event_weekday'),\n",
       " (0.0064697725810331404, 'vendorId_google'),\n",
       " (0.0052953844477933928, 'matchType_None'),\n",
       " (0.0051735962214453229, 'event_yr'),\n",
       " (0.0051452539173655028, 'channel_affiliate'),\n",
       " (0.0048680796833628906, 'vendorId_atkins_dcm'),\n",
       " (0.004135038324235102, 'vendorId_1451748'),\n",
       " (0.0040411823718253517, 'matchType_exact'),\n",
       " (0.0037474374994626355, 'channel_sem'),\n",
       " (0.0035234394135461324, 'deviceType_Tablet'),\n",
       " (0.0023765008121605503, 'channel_social'),\n",
       " (0.0015300605755782012, 'channel_email'),\n",
       " (0.0012114953138880511, 'deviceType_Unknown'),\n",
       " (0.001134122610288795, 'channel_social-inferred'),\n",
       " (0.00020665653336601395, 'vendorId_bing'),\n",
       " (9.1374807910656438e-06, 'matchType_broad'),\n",
       " (2.1846320613058115e-06, 'channel_email-inferred'),\n",
       " (7.8796031362888114e-07, 'channel_affiliate-inferred'),\n",
       " (3.9107715040769614e-07, 'vendorId_atkins_ir'),\n",
       " (1.9268409784430925e-07, 'deviceType_Game console')]"
      ]
     },
     "execution_count": 37,
     "metadata": {},
     "output_type": "execute_result"
    }
   ],
   "source": [
    "# Feature importance\n",
    "sorted(zip(clf.feature_importances_, list(data.columns.values)), reverse=True)"
   ]
  },
  {
   "cell_type": "markdown",
   "metadata": {},
   "source": [
    "### 2. Automated tuning - Bayesian Optimization"
   ]
  },
  {
   "cell_type": "code",
   "execution_count": 40,
   "metadata": {
    "collapsed": false
   },
   "outputs": [
    {
     "name": "stdout",
     "output_type": "stream",
     "text": [
      "\u001b[31mInitialization\u001b[0m\n",
      "\u001b[94m---------------------------------------------------------------------------------\u001b[0m\n",
      " Step |   Time |      Value |   max_depth |   max_features |   min_samples_leaf | \n",
      "    1 | 01m30s | \u001b[35m   0.98535\u001b[0m | \u001b[32m     4.1420\u001b[0m | \u001b[32m        0.8725\u001b[0m | \u001b[32m            9.8164\u001b[0m | \n",
      "    2 | 01m44s | \u001b[35m   0.98567\u001b[0m | \u001b[32m     5.5886\u001b[0m | \u001b[32m        0.9980\u001b[0m | \u001b[32m           13.2809\u001b[0m | \n",
      "    3 | 01m34s | \u001b[35m   0.98643\u001b[0m | \u001b[32m     6.0675\u001b[0m | \u001b[32m        0.8012\u001b[0m | \u001b[32m            2.5207\u001b[0m | \n",
      "    4 | 01m43s | \u001b[35m   0.98660\u001b[0m | \u001b[32m     6.9047\u001b[0m | \u001b[32m        0.9065\u001b[0m | \u001b[32m           13.1066\u001b[0m | \n",
      "    5 | 01m47s |    0.98548 |      6.3896 |         0.9921 |             3.8887 | \n",
      "\u001b[31mBayesian Optimization\u001b[0m\n",
      "\u001b[94m---------------------------------------------------------------------------------\u001b[0m\n",
      " Step |   Time |      Value |   max_depth |   max_features |   min_samples_leaf | \n"
     ]
    },
    {
     "name": "stderr",
     "output_type": "stream",
     "text": [
      "/Users/didle/OtherSoftwares/anaconda2/lib/python2.7/site-packages/sklearn/gaussian_process/gpr.py:427: UserWarning: fmin_l_bfgs_b terminated abnormally with the  state: {'warnflag': 2, 'task': 'ABNORMAL_TERMINATION_IN_LNSRCH', 'grad': array([  5.90599477e-05]), 'nit': 6, 'funcalls': 57}\n",
      "  \" state: %s\" % convergence_dict)\n"
     ]
    },
    {
     "name": "stdout",
     "output_type": "stream",
     "text": [
      "    6 | 01m53s |    0.98634 |      6.3446 |         0.8658 |            20.9946 | \n"
     ]
    },
    {
     "name": "stderr",
     "output_type": "stream",
     "text": [
      "/Users/didle/OtherSoftwares/anaconda2/lib/python2.7/site-packages/sklearn/gaussian_process/gpr.py:308: UserWarning: Predicted variances smaller than 0. Setting those variances to 0.\n",
      "  warnings.warn(\"Predicted variances smaller than 0. \"\n"
     ]
    },
    {
     "name": "stdout",
     "output_type": "stream",
     "text": [
      "    7 | 01m43s | \u001b[35m   0.98704\u001b[0m | \u001b[32m     8.0000\u001b[0m | \u001b[32m        0.8000\u001b[0m | \u001b[32m           12.8092\u001b[0m | \n"
     ]
    },
    {
     "name": "stderr",
     "output_type": "stream",
     "text": [
      "/Users/didle/OtherSoftwares/anaconda2/lib/python2.7/site-packages/sklearn/gaussian_process/gpr.py:427: UserWarning: fmin_l_bfgs_b terminated abnormally with the  state: {'warnflag': 2, 'task': 'ABNORMAL_TERMINATION_IN_LNSRCH', 'grad': array([ -1.25779036e-05]), 'nit': 5, 'funcalls': 50}\n",
      "  \" state: %s\" % convergence_dict)\n"
     ]
    },
    {
     "name": "stdout",
     "output_type": "stream",
     "text": [
      "    8 | 01m45s |    0.98664 |      7.6789 |         0.8121 |            15.4926 | \n"
     ]
    },
    {
     "name": "stderr",
     "output_type": "stream",
     "text": [
      "/Users/didle/OtherSoftwares/anaconda2/lib/python2.7/site-packages/sklearn/gaussian_process/gpr.py:427: UserWarning: fmin_l_bfgs_b terminated abnormally with the  state: {'warnflag': 2, 'task': 'ABNORMAL_TERMINATION_IN_LNSRCH', 'grad': array([ -2.04926005e-05]), 'nit': 5, 'funcalls': 49}\n",
      "  \" state: %s\" % convergence_dict)\n",
      "/Users/didle/OtherSoftwares/anaconda2/lib/python2.7/site-packages/sklearn/gaussian_process/gpr.py:427: UserWarning: fmin_l_bfgs_b terminated abnormally with the  state: {'warnflag': 2, 'task': 'ABNORMAL_TERMINATION_IN_LNSRCH', 'grad': array([-0.00067734]), 'nit': 5, 'funcalls': 53}\n",
      "  \" state: %s\" % convergence_dict)\n"
     ]
    },
    {
     "name": "stdout",
     "output_type": "stream",
     "text": [
      "    9 | 01m48s |    0.98646 |      7.7067 |         0.8489 |             1.3243 | \n"
     ]
    },
    {
     "name": "stderr",
     "output_type": "stream",
     "text": [
      "/Users/didle/OtherSoftwares/anaconda2/lib/python2.7/site-packages/sklearn/gaussian_process/gpr.py:427: UserWarning: fmin_l_bfgs_b terminated abnormally with the  state: {'warnflag': 2, 'task': 'ABNORMAL_TERMINATION_IN_LNSRCH', 'grad': array([  3.20786198e-05]), 'nit': 5, 'funcalls': 60}\n",
      "  \" state: %s\" % convergence_dict)\n"
     ]
    },
    {
     "name": "stdout",
     "output_type": "stream",
     "text": [
      "   10 | 01m39s |    0.98546 |      4.0385 |         0.9037 |             1.4336 | \n",
      "   11 | 01m43s |    0.98654 |      7.9743 |         0.8081 |            11.5079 | \n"
     ]
    },
    {
     "name": "stderr",
     "output_type": "stream",
     "text": [
      "/Users/didle/OtherSoftwares/anaconda2/lib/python2.7/site-packages/sklearn/gaussian_process/gpr.py:427: UserWarning: fmin_l_bfgs_b terminated abnormally with the  state: {'warnflag': 2, 'task': 'ABNORMAL_TERMINATION_IN_LNSRCH', 'grad': array([ 0.00059589]), 'nit': 5, 'funcalls': 55}\n",
      "  \" state: %s\" % convergence_dict)\n",
      "/Users/didle/OtherSoftwares/anaconda2/lib/python2.7/site-packages/sklearn/gaussian_process/gpr.py:427: UserWarning: fmin_l_bfgs_b terminated abnormally with the  state: {'warnflag': 2, 'task': 'ABNORMAL_TERMINATION_IN_LNSRCH', 'grad': array([-0.00031679]), 'nit': 5, 'funcalls': 50}\n",
      "  \" state: %s\" % convergence_dict)\n"
     ]
    },
    {
     "name": "stdout",
     "output_type": "stream",
     "text": [
      "   12 | 01m42s |    0.98619 |      7.7092 |         0.8148 |            20.6324 | \n"
     ]
    },
    {
     "name": "stderr",
     "output_type": "stream",
     "text": [
      "/Users/didle/OtherSoftwares/anaconda2/lib/python2.7/site-packages/sklearn/gaussian_process/gpr.py:427: UserWarning: fmin_l_bfgs_b terminated abnormally with the  state: {'warnflag': 2, 'task': 'ABNORMAL_TERMINATION_IN_LNSRCH', 'grad': array([ 0.00030149]), 'nit': 3, 'funcalls': 47}\n",
      "  \" state: %s\" % convergence_dict)\n"
     ]
    },
    {
     "name": "stdout",
     "output_type": "stream",
     "text": [
      "   13 | 01m35s |    0.98529 |      4.4460 |         0.8654 |            18.4730 | \n"
     ]
    },
    {
     "name": "stderr",
     "output_type": "stream",
     "text": [
      "/Users/didle/OtherSoftwares/anaconda2/lib/python2.7/site-packages/sklearn/gaussian_process/gpr.py:427: UserWarning: fmin_l_bfgs_b terminated abnormally with the  state: {'warnflag': 2, 'task': 'ABNORMAL_TERMINATION_IN_LNSRCH', 'grad': array([-0.00024055]), 'nit': 3, 'funcalls': 51}\n",
      "  \" state: %s\" % convergence_dict)\n"
     ]
    },
    {
     "name": "stdout",
     "output_type": "stream",
     "text": [
      "   14 | 01m49s |    0.98643 |      7.9471 |         0.8247 |            12.7448 | \n"
     ]
    },
    {
     "name": "stderr",
     "output_type": "stream",
     "text": [
      "/Users/didle/OtherSoftwares/anaconda2/lib/python2.7/site-packages/sklearn/gaussian_process/gpr.py:427: UserWarning: fmin_l_bfgs_b terminated abnormally with the  state: {'warnflag': 2, 'task': 'ABNORMAL_TERMINATION_IN_LNSRCH', 'grad': array([  1.51829736e-05]), 'nit': 5, 'funcalls': 58}\n",
      "  \" state: %s\" % convergence_dict)\n"
     ]
    },
    {
     "name": "stdout",
     "output_type": "stream",
     "text": [
      "   15 | 01m51s |    0.98637 |      7.2451 |         0.8219 |             7.1211 | \n"
     ]
    },
    {
     "name": "stderr",
     "output_type": "stream",
     "text": [
      "/Users/didle/OtherSoftwares/anaconda2/lib/python2.7/site-packages/sklearn/gaussian_process/gpr.py:427: UserWarning: fmin_l_bfgs_b terminated abnormally with the  state: {'warnflag': 2, 'task': 'ABNORMAL_TERMINATION_IN_LNSRCH', 'grad': array([ -1.22806925e-05]), 'nit': 4, 'funcalls': 48}\n",
      "  \" state: %s\" % convergence_dict)\n"
     ]
    },
    {
     "name": "stdout",
     "output_type": "stream",
     "text": [
      "   16 | 01m39s |    0.98516 |      4.0084 |         0.8074 |            13.6786 | \n"
     ]
    },
    {
     "name": "stderr",
     "output_type": "stream",
     "text": [
      "/Users/didle/OtherSoftwares/anaconda2/lib/python2.7/site-packages/sklearn/gaussian_process/gpr.py:427: UserWarning: fmin_l_bfgs_b terminated abnormally with the  state: {'warnflag': 2, 'task': 'ABNORMAL_TERMINATION_IN_LNSRCH', 'grad': array([-0.0031744]), 'nit': 4, 'funcalls': 50}\n",
      "  \" state: %s\" % convergence_dict)\n"
     ]
    },
    {
     "name": "stdout",
     "output_type": "stream",
     "text": [
      "   17 | 01m36s |    0.98510 |      4.4521 |         0.8180 |             4.9739 | \n"
     ]
    },
    {
     "name": "stderr",
     "output_type": "stream",
     "text": [
      "/Users/didle/OtherSoftwares/anaconda2/lib/python2.7/site-packages/sklearn/gaussian_process/gpr.py:427: UserWarning: fmin_l_bfgs_b terminated abnormally with the  state: {'warnflag': 2, 'task': 'ABNORMAL_TERMINATION_IN_LNSRCH', 'grad': array([-0.00355853]), 'nit': 4, 'funcalls': 54}\n",
      "  \" state: %s\" % convergence_dict)\n",
      "/Users/didle/OtherSoftwares/anaconda2/lib/python2.7/site-packages/sklearn/gaussian_process/gpr.py:427: UserWarning: fmin_l_bfgs_b terminated abnormally with the  state: {'warnflag': 2, 'task': 'ABNORMAL_TERMINATION_IN_LNSRCH', 'grad': array([ -3.10565491e-05]), 'nit': 5, 'funcalls': 53}\n",
      "  \" state: %s\" % convergence_dict)\n"
     ]
    },
    {
     "name": "stdout",
     "output_type": "stream",
     "text": [
      "   18 | 01m42s |    0.98653 |      5.9152 |         0.8052 |            12.5151 | \n"
     ]
    },
    {
     "name": "stderr",
     "output_type": "stream",
     "text": [
      "/Users/didle/OtherSoftwares/anaconda2/lib/python2.7/site-packages/sklearn/gaussian_process/gpr.py:427: UserWarning: fmin_l_bfgs_b terminated abnormally with the  state: {'warnflag': 2, 'task': 'ABNORMAL_TERMINATION_IN_LNSRCH', 'grad': array([ -6.06568210e-05]), 'nit': 6, 'funcalls': 58}\n",
      "  \" state: %s\" % convergence_dict)\n",
      "/Users/didle/OtherSoftwares/anaconda2/lib/python2.7/site-packages/sklearn/gaussian_process/gpr.py:427: UserWarning: fmin_l_bfgs_b terminated abnormally with the  state: {'warnflag': 2, 'task': 'ABNORMAL_TERMINATION_IN_LNSRCH', 'grad': array([  9.21697647e-05]), 'nit': 6, 'funcalls': 54}\n",
      "  \" state: %s\" % convergence_dict)\n"
     ]
    },
    {
     "name": "stdout",
     "output_type": "stream",
     "text": [
      "   19 | 01m50s |    0.98641 |      6.6777 |         0.8149 |            14.7920 | \n",
      "   20 | 01m51s |    0.98620 |      7.9803 |         0.8399 |             4.7299 | \n",
      "   21 | 01m36s |    0.98526 |      4.1721 |         0.8100 |            20.8170 | \n"
     ]
    },
    {
     "name": "stderr",
     "output_type": "stream",
     "text": [
      "/Users/didle/OtherSoftwares/anaconda2/lib/python2.7/site-packages/sklearn/gaussian_process/gpr.py:427: UserWarning: fmin_l_bfgs_b terminated abnormally with the  state: {'warnflag': 2, 'task': 'ABNORMAL_TERMINATION_IN_LNSRCH', 'grad': array([-0.0033979]), 'nit': 5, 'funcalls': 51}\n",
      "  \" state: %s\" % convergence_dict)\n"
     ]
    },
    {
     "name": "stdout",
     "output_type": "stream",
     "text": [
      "   22 | 01m51s |    0.98630 |      7.7847 |         0.8250 |            14.6622 | \n"
     ]
    },
    {
     "name": "stderr",
     "output_type": "stream",
     "text": [
      "/Users/didle/OtherSoftwares/anaconda2/lib/python2.7/site-packages/sklearn/gaussian_process/gpr.py:427: UserWarning: fmin_l_bfgs_b terminated abnormally with the  state: {'warnflag': 2, 'task': 'ABNORMAL_TERMINATION_IN_LNSRCH', 'grad': array([-0.0001497]), 'nit': 6, 'funcalls': 62}\n",
      "  \" state: %s\" % convergence_dict)\n",
      "/Users/didle/OtherSoftwares/anaconda2/lib/python2.7/site-packages/sklearn/gaussian_process/gpr.py:427: UserWarning: fmin_l_bfgs_b terminated abnormally with the  state: {'warnflag': 2, 'task': 'ABNORMAL_TERMINATION_IN_LNSRCH', 'grad': array([ -3.28762835e-05]), 'nit': 6, 'funcalls': 61}\n",
      "  \" state: %s\" % convergence_dict)\n"
     ]
    },
    {
     "name": "stdout",
     "output_type": "stream",
     "text": [
      "   23 | 01m52s |    0.98617 |      7.6541 |         0.8450 |            17.6678 | \n"
     ]
    },
    {
     "name": "stderr",
     "output_type": "stream",
     "text": [
      "/Users/didle/OtherSoftwares/anaconda2/lib/python2.7/site-packages/sklearn/gaussian_process/gpr.py:427: UserWarning: fmin_l_bfgs_b terminated abnormally with the  state: {'warnflag': 2, 'task': 'ABNORMAL_TERMINATION_IN_LNSRCH', 'grad': array([ -6.83282187e-05]), 'nit': 6, 'funcalls': 55}\n",
      "  \" state: %s\" % convergence_dict)\n",
      "/Users/didle/OtherSoftwares/anaconda2/lib/python2.7/site-packages/sklearn/gaussian_process/gpr.py:427: UserWarning: fmin_l_bfgs_b terminated abnormally with the  state: {'warnflag': 2, 'task': 'ABNORMAL_TERMINATION_IN_LNSRCH', 'grad': array([-0.0013454]), 'nit': 4, 'funcalls': 55}\n",
      "  \" state: %s\" % convergence_dict)\n"
     ]
    },
    {
     "name": "stdout",
     "output_type": "stream",
     "text": [
      "   24 | 01m47s |    0.98651 |      5.8223 |         0.8066 |            20.2292 | \n"
     ]
    },
    {
     "name": "stderr",
     "output_type": "stream",
     "text": [
      "/Users/didle/OtherSoftwares/anaconda2/lib/python2.7/site-packages/sklearn/gaussian_process/gpr.py:427: UserWarning: fmin_l_bfgs_b terminated abnormally with the  state: {'warnflag': 2, 'task': 'ABNORMAL_TERMINATION_IN_LNSRCH', 'grad': array([ 0.00020379]), 'nit': 3, 'funcalls': 50}\n",
      "  \" state: %s\" % convergence_dict)\n",
      "/Users/didle/OtherSoftwares/anaconda2/lib/python2.7/site-packages/sklearn/gaussian_process/gpr.py:427: UserWarning: fmin_l_bfgs_b terminated abnormally with the  state: {'warnflag': 2, 'task': 'ABNORMAL_TERMINATION_IN_LNSRCH', 'grad': array([ 0.00541298]), 'nit': 4, 'funcalls': 55}\n",
      "  \" state: %s\" % convergence_dict)\n"
     ]
    },
    {
     "name": "stdout",
     "output_type": "stream",
     "text": [
      "   25 | 01m49s |    0.98659 |      7.6616 |         0.8002 |            13.9864 | \n"
     ]
    },
    {
     "name": "stderr",
     "output_type": "stream",
     "text": [
      "/Users/didle/OtherSoftwares/anaconda2/lib/python2.7/site-packages/sklearn/gaussian_process/gpr.py:427: UserWarning: fmin_l_bfgs_b terminated abnormally with the  state: {'warnflag': 2, 'task': 'ABNORMAL_TERMINATION_IN_LNSRCH', 'grad': array([ -4.14978026e-05]), 'nit': 3, 'funcalls': 50}\n",
      "  \" state: %s\" % convergence_dict)\n"
     ]
    },
    {
     "name": "stdout",
     "output_type": "stream",
     "text": [
      "   26 | 01m50s |    0.98626 |      7.6468 |         0.8084 |             8.6167 | \n"
     ]
    },
    {
     "name": "stderr",
     "output_type": "stream",
     "text": [
      "/Users/didle/OtherSoftwares/anaconda2/lib/python2.7/site-packages/sklearn/gaussian_process/gpr.py:427: UserWarning: fmin_l_bfgs_b terminated abnormally with the  state: {'warnflag': 2, 'task': 'ABNORMAL_TERMINATION_IN_LNSRCH', 'grad': array([  1.37625611e-05]), 'nit': 5, 'funcalls': 57}\n",
      "  \" state: %s\" % convergence_dict)\n",
      "/Users/didle/OtherSoftwares/anaconda2/lib/python2.7/site-packages/sklearn/gaussian_process/gpr.py:427: UserWarning: fmin_l_bfgs_b terminated abnormally with the  state: {'warnflag': 2, 'task': 'ABNORMAL_TERMINATION_IN_LNSRCH', 'grad': array([-0.00020244]), 'nit': 7, 'funcalls': 60}\n",
      "  \" state: %s\" % convergence_dict)\n",
      "/Users/didle/OtherSoftwares/anaconda2/lib/python2.7/site-packages/sklearn/gaussian_process/gpr.py:427: UserWarning: fmin_l_bfgs_b terminated abnormally with the  state: {'warnflag': 2, 'task': 'ABNORMAL_TERMINATION_IN_LNSRCH', 'grad': array([ -6.89455046e-05]), 'nit': 6, 'funcalls': 66}\n",
      "  \" state: %s\" % convergence_dict)\n"
     ]
    },
    {
     "name": "stdout",
     "output_type": "stream",
     "text": [
      "   27 | 01m49s |    0.98611 |      7.4289 |         0.8016 |             2.9128 | \n"
     ]
    },
    {
     "name": "stderr",
     "output_type": "stream",
     "text": [
      "/Users/didle/OtherSoftwares/anaconda2/lib/python2.7/site-packages/sklearn/gaussian_process/gpr.py:427: UserWarning: fmin_l_bfgs_b terminated abnormally with the  state: {'warnflag': 2, 'task': 'ABNORMAL_TERMINATION_IN_LNSRCH', 'grad': array([ 0.00132634]), 'nit': 5, 'funcalls': 56}\n",
      "  \" state: %s\" % convergence_dict)\n"
     ]
    },
    {
     "name": "stdout",
     "output_type": "stream",
     "text": [
      "   28 | 01m49s |    0.98657 |      6.5688 |         0.8270 |             5.4389 | \n"
     ]
    },
    {
     "name": "stderr",
     "output_type": "stream",
     "text": [
      "/Users/didle/OtherSoftwares/anaconda2/lib/python2.7/site-packages/sklearn/gaussian_process/gpr.py:427: UserWarning: fmin_l_bfgs_b terminated abnormally with the  state: {'warnflag': 2, 'task': 'ABNORMAL_TERMINATION_IN_LNSRCH', 'grad': array([ 0.00023674]), 'nit': 4, 'funcalls': 52}\n",
      "  \" state: %s\" % convergence_dict)\n",
      "/Users/didle/OtherSoftwares/anaconda2/lib/python2.7/site-packages/sklearn/gaussian_process/gpr.py:427: UserWarning: fmin_l_bfgs_b terminated abnormally with the  state: {'warnflag': 2, 'task': 'ABNORMAL_TERMINATION_IN_LNSRCH', 'grad': array([ -7.11451139e-05]), 'nit': 6, 'funcalls': 53}\n",
      "  \" state: %s\" % convergence_dict)\n"
     ]
    },
    {
     "name": "stdout",
     "output_type": "stream",
     "text": [
      "   29 | 01m44s |    0.98645 |      5.9322 |         0.8106 |             1.2064 | \n"
     ]
    },
    {
     "name": "stderr",
     "output_type": "stream",
     "text": [
      "/Users/didle/OtherSoftwares/anaconda2/lib/python2.7/site-packages/sklearn/gaussian_process/gpr.py:427: UserWarning: fmin_l_bfgs_b terminated abnormally with the  state: {'warnflag': 2, 'task': 'ABNORMAL_TERMINATION_IN_LNSRCH', 'grad': array([ 0.00028367]), 'nit': 4, 'funcalls': 56}\n",
      "  \" state: %s\" % convergence_dict)\n"
     ]
    },
    {
     "name": "stdout",
     "output_type": "stream",
     "text": [
      "   30 | 01m44s |    0.98650 |      5.8471 |         0.8035 |             7.8179 | \n",
      "   31 | 01m47s |    0.98656 |      6.2874 |         0.8100 |            13.1358 | \n"
     ]
    },
    {
     "name": "stderr",
     "output_type": "stream",
     "text": [
      "/Users/didle/OtherSoftwares/anaconda2/lib/python2.7/site-packages/sklearn/gaussian_process/gpr.py:427: UserWarning: fmin_l_bfgs_b terminated abnormally with the  state: {'warnflag': 2, 'task': 'ABNORMAL_TERMINATION_IN_LNSRCH', 'grad': array([-0.00011062]), 'nit': 4, 'funcalls': 65}\n",
      "  \" state: %s\" % convergence_dict)\n",
      "/Users/didle/OtherSoftwares/anaconda2/lib/python2.7/site-packages/sklearn/gaussian_process/gpr.py:427: UserWarning: fmin_l_bfgs_b terminated abnormally with the  state: {'warnflag': 2, 'task': 'ABNORMAL_TERMINATION_IN_LNSRCH', 'grad': array([-0.00062213]), 'nit': 5, 'funcalls': 51}\n",
      "  \" state: %s\" % convergence_dict)\n",
      "/Users/didle/OtherSoftwares/anaconda2/lib/python2.7/site-packages/sklearn/gaussian_process/gpr.py:427: UserWarning: fmin_l_bfgs_b terminated abnormally with the  state: {'warnflag': 2, 'task': 'ABNORMAL_TERMINATION_IN_LNSRCH', 'grad': array([ 0.00196763]), 'nit': 5, 'funcalls': 64}\n",
      "  \" state: %s\" % convergence_dict)\n",
      "/Users/didle/OtherSoftwares/anaconda2/lib/python2.7/site-packages/sklearn/gaussian_process/gpr.py:427: UserWarning: fmin_l_bfgs_b terminated abnormally with the  state: {'warnflag': 2, 'task': 'ABNORMAL_TERMINATION_IN_LNSRCH', 'grad': array([ -1.27901521e-05]), 'nit': 6, 'funcalls': 64}\n",
      "  \" state: %s\" % convergence_dict)\n",
      "/Users/didle/OtherSoftwares/anaconda2/lib/python2.7/site-packages/sklearn/gaussian_process/gpr.py:427: UserWarning: fmin_l_bfgs_b terminated abnormally with the  state: {'warnflag': 2, 'task': 'ABNORMAL_TERMINATION_IN_LNSRCH', 'grad': array([  8.71507227e-05]), 'nit': 6, 'funcalls': 52}\n",
      "  \" state: %s\" % convergence_dict)\n",
      "/Users/didle/OtherSoftwares/anaconda2/lib/python2.7/site-packages/sklearn/gaussian_process/gpr.py:427: UserWarning: fmin_l_bfgs_b terminated abnormally with the  state: {'warnflag': 2, 'task': 'ABNORMAL_TERMINATION_IN_LNSRCH', 'grad': array([-0.00126367]), 'nit': 6, 'funcalls': 54}\n",
      "  \" state: %s\" % convergence_dict)\n"
     ]
    },
    {
     "name": "stdout",
     "output_type": "stream",
     "text": [
      "   32 | 01m45s |    0.98662 |      5.5239 |         0.8287 |            16.7368 | \n"
     ]
    },
    {
     "name": "stderr",
     "output_type": "stream",
     "text": [
      "/Users/didle/OtherSoftwares/anaconda2/lib/python2.7/site-packages/sklearn/gaussian_process/gpr.py:427: UserWarning: fmin_l_bfgs_b terminated abnormally with the  state: {'warnflag': 2, 'task': 'ABNORMAL_TERMINATION_IN_LNSRCH', 'grad': array([ 0.00162948]), 'nit': 5, 'funcalls': 76}\n",
      "  \" state: %s\" % convergence_dict)\n"
     ]
    },
    {
     "name": "stdout",
     "output_type": "stream",
     "text": [
      "   33 | 01m53s |    0.98628 |      6.0766 |         0.8647 |            10.1911 | \n"
     ]
    },
    {
     "name": "stderr",
     "output_type": "stream",
     "text": [
      "/Users/didle/OtherSoftwares/anaconda2/lib/python2.7/site-packages/sklearn/gaussian_process/gpr.py:427: UserWarning: fmin_l_bfgs_b terminated abnormally with the  state: {'warnflag': 2, 'task': 'ABNORMAL_TERMINATION_IN_LNSRCH', 'grad': array([-0.00012482]), 'nit': 5, 'funcalls': 58}\n",
      "  \" state: %s\" % convergence_dict)\n"
     ]
    },
    {
     "name": "stdout",
     "output_type": "stream",
     "text": [
      "   34 | 01m46s |    0.98653 |      5.3800 |         0.8121 |            18.0795 | \n"
     ]
    },
    {
     "name": "stderr",
     "output_type": "stream",
     "text": [
      "/Users/didle/OtherSoftwares/anaconda2/lib/python2.7/site-packages/sklearn/gaussian_process/gpr.py:427: UserWarning: fmin_l_bfgs_b terminated abnormally with the  state: {'warnflag': 2, 'task': 'ABNORMAL_TERMINATION_IN_LNSRCH', 'grad': array([-0.00014039]), 'nit': 4, 'funcalls': 52}\n",
      "  \" state: %s\" % convergence_dict)\n",
      "/Users/didle/OtherSoftwares/anaconda2/lib/python2.7/site-packages/sklearn/gaussian_process/gpr.py:427: UserWarning: fmin_l_bfgs_b terminated abnormally with the  state: {'warnflag': 2, 'task': 'ABNORMAL_TERMINATION_IN_LNSRCH', 'grad': array([ 0.00173111]), 'nit': 4, 'funcalls': 51}\n",
      "  \" state: %s\" % convergence_dict)\n"
     ]
    },
    {
     "name": "stdout",
     "output_type": "stream",
     "text": [
      "   35 | 01m54s |    0.98645 |      7.8528 |         0.8330 |             9.7789 | \n"
     ]
    }
   ],
   "source": [
    "max_depth = 6 # AUC: 0.986439401574\n",
    "max_features = 1.0 # AUC: 0.986488506958\n",
    "min_samples_leaf = 1 # AUC: 0.986948464213\n",
    "\n",
    "from bayes_opt import BayesianOptimization\n",
    "def rf_cv(max_depth, max_features, min_samples_leaf):   \n",
    "    skf = StratifiedKFold(data_y, n_folds=4, shuffle=True, random_state=535)\n",
    "    clf = ensemble.RandomForestClassifier(n_estimators=1000, max_depth = int(max_depth), \n",
    "                        max_features = max_features, min_samples_leaf = int(min_samples_leaf),\n",
    "                        class_weight='balanced', verbose = 0, n_jobs =-1)\n",
    "    pred = np.zeros((data_y.shape[0]))\n",
    "    for itrain, itest in skf:\n",
    "        Xtr, Xte = data_X[itrain, :], data_X[itest, :]\n",
    "        ytr, yte = data_y[itrain], data_y[itest]\n",
    "        clf.fit(Xtr, ytr)\n",
    "        pred[itest] = clf.predict_proba(Xte)[:,1]\n",
    "    score = metrics.roc_auc_score(data_y, pred)\n",
    "    return score\n",
    "            \n",
    "rf_BO = BayesianOptimization(rf_cv, {\n",
    "                                     'max_depth': (max_depth - 2, max_depth + 2),\n",
    "                                     'max_features': (max(max_features - 0.2, 0.1), min(max_features + 0.2, 1)),\n",
    "                                     'min_samples_leaf' :(max(min_samples_leaf - 20, 1), min_samples_leaf + 20)})\n",
    "rf_BO.maximize(init_points=5, n_iter=30)"
   ]
  },
  {
   "cell_type": "code",
   "execution_count": 41,
   "metadata": {
    "collapsed": false
   },
   "outputs": [
    {
     "data": {
      "text/html": [
       "<div>\n",
       "<table border=\"1\" class=\"dataframe\">\n",
       "  <thead>\n",
       "    <tr style=\"text-align: right;\">\n",
       "      <th></th>\n",
       "      <th>max_depth</th>\n",
       "      <th>max_features</th>\n",
       "      <th>min_samples_leaf</th>\n",
       "      <th>score</th>\n",
       "    </tr>\n",
       "  </thead>\n",
       "  <tbody>\n",
       "    <tr>\n",
       "      <th>1</th>\n",
       "      <td>8.000000</td>\n",
       "      <td>0.800000</td>\n",
       "      <td>12.809181</td>\n",
       "      <td>0.987044</td>\n",
       "    </tr>\n",
       "    <tr>\n",
       "      <th>2</th>\n",
       "      <td>7.678947</td>\n",
       "      <td>0.812139</td>\n",
       "      <td>15.492577</td>\n",
       "      <td>0.986644</td>\n",
       "    </tr>\n",
       "    <tr>\n",
       "      <th>26</th>\n",
       "      <td>5.523923</td>\n",
       "      <td>0.828654</td>\n",
       "      <td>16.736800</td>\n",
       "      <td>0.986620</td>\n",
       "    </tr>\n",
       "    <tr>\n",
       "      <th>19</th>\n",
       "      <td>7.661597</td>\n",
       "      <td>0.800234</td>\n",
       "      <td>13.986432</td>\n",
       "      <td>0.986591</td>\n",
       "    </tr>\n",
       "    <tr>\n",
       "      <th>22</th>\n",
       "      <td>6.568821</td>\n",
       "      <td>0.827011</td>\n",
       "      <td>5.438912</td>\n",
       "      <td>0.986570</td>\n",
       "    </tr>\n",
       "    <tr>\n",
       "      <th>25</th>\n",
       "      <td>6.287388</td>\n",
       "      <td>0.810032</td>\n",
       "      <td>13.135846</td>\n",
       "      <td>0.986559</td>\n",
       "    </tr>\n",
       "    <tr>\n",
       "      <th>5</th>\n",
       "      <td>7.974298</td>\n",
       "      <td>0.808129</td>\n",
       "      <td>11.507922</td>\n",
       "      <td>0.986539</td>\n",
       "    </tr>\n",
       "    <tr>\n",
       "      <th>12</th>\n",
       "      <td>5.915226</td>\n",
       "      <td>0.805153</td>\n",
       "      <td>12.515069</td>\n",
       "      <td>0.986533</td>\n",
       "    </tr>\n",
       "    <tr>\n",
       "      <th>28</th>\n",
       "      <td>5.379961</td>\n",
       "      <td>0.812140</td>\n",
       "      <td>18.079526</td>\n",
       "      <td>0.986531</td>\n",
       "    </tr>\n",
       "    <tr>\n",
       "      <th>18</th>\n",
       "      <td>5.822296</td>\n",
       "      <td>0.806584</td>\n",
       "      <td>20.229211</td>\n",
       "      <td>0.986507</td>\n",
       "    </tr>\n",
       "    <tr>\n",
       "      <th>24</th>\n",
       "      <td>5.847112</td>\n",
       "      <td>0.803474</td>\n",
       "      <td>7.817926</td>\n",
       "      <td>0.986501</td>\n",
       "    </tr>\n",
       "    <tr>\n",
       "      <th>3</th>\n",
       "      <td>7.706670</td>\n",
       "      <td>0.848884</td>\n",
       "      <td>1.324281</td>\n",
       "      <td>0.986458</td>\n",
       "    </tr>\n",
       "    <tr>\n",
       "      <th>23</th>\n",
       "      <td>5.932193</td>\n",
       "      <td>0.810573</td>\n",
       "      <td>1.206375</td>\n",
       "      <td>0.986455</td>\n",
       "    </tr>\n",
       "    <tr>\n",
       "      <th>29</th>\n",
       "      <td>7.852823</td>\n",
       "      <td>0.832960</td>\n",
       "      <td>9.778897</td>\n",
       "      <td>0.986447</td>\n",
       "    </tr>\n",
       "    <tr>\n",
       "      <th>8</th>\n",
       "      <td>7.947061</td>\n",
       "      <td>0.824735</td>\n",
       "      <td>12.744764</td>\n",
       "      <td>0.986426</td>\n",
       "    </tr>\n",
       "    <tr>\n",
       "      <th>13</th>\n",
       "      <td>6.677669</td>\n",
       "      <td>0.814913</td>\n",
       "      <td>14.792048</td>\n",
       "      <td>0.986414</td>\n",
       "    </tr>\n",
       "    <tr>\n",
       "      <th>9</th>\n",
       "      <td>7.245072</td>\n",
       "      <td>0.821890</td>\n",
       "      <td>7.121108</td>\n",
       "      <td>0.986372</td>\n",
       "    </tr>\n",
       "    <tr>\n",
       "      <th>0</th>\n",
       "      <td>6.344580</td>\n",
       "      <td>0.865756</td>\n",
       "      <td>20.994556</td>\n",
       "      <td>0.986343</td>\n",
       "    </tr>\n",
       "    <tr>\n",
       "      <th>16</th>\n",
       "      <td>7.784748</td>\n",
       "      <td>0.825016</td>\n",
       "      <td>14.662241</td>\n",
       "      <td>0.986297</td>\n",
       "    </tr>\n",
       "    <tr>\n",
       "      <th>27</th>\n",
       "      <td>6.076634</td>\n",
       "      <td>0.864694</td>\n",
       "      <td>10.191143</td>\n",
       "      <td>0.986285</td>\n",
       "    </tr>\n",
       "    <tr>\n",
       "      <th>20</th>\n",
       "      <td>7.646834</td>\n",
       "      <td>0.808409</td>\n",
       "      <td>8.616709</td>\n",
       "      <td>0.986260</td>\n",
       "    </tr>\n",
       "    <tr>\n",
       "      <th>14</th>\n",
       "      <td>7.980284</td>\n",
       "      <td>0.839939</td>\n",
       "      <td>4.729906</td>\n",
       "      <td>0.986195</td>\n",
       "    </tr>\n",
       "    <tr>\n",
       "      <th>6</th>\n",
       "      <td>7.709161</td>\n",
       "      <td>0.814792</td>\n",
       "      <td>20.632390</td>\n",
       "      <td>0.986193</td>\n",
       "    </tr>\n",
       "    <tr>\n",
       "      <th>17</th>\n",
       "      <td>7.654122</td>\n",
       "      <td>0.845011</td>\n",
       "      <td>17.667814</td>\n",
       "      <td>0.986169</td>\n",
       "    </tr>\n",
       "    <tr>\n",
       "      <th>21</th>\n",
       "      <td>7.428873</td>\n",
       "      <td>0.801587</td>\n",
       "      <td>2.912790</td>\n",
       "      <td>0.986113</td>\n",
       "    </tr>\n",
       "    <tr>\n",
       "      <th>4</th>\n",
       "      <td>4.038542</td>\n",
       "      <td>0.903750</td>\n",
       "      <td>1.433596</td>\n",
       "      <td>0.985464</td>\n",
       "    </tr>\n",
       "    <tr>\n",
       "      <th>7</th>\n",
       "      <td>4.446020</td>\n",
       "      <td>0.865355</td>\n",
       "      <td>18.473001</td>\n",
       "      <td>0.985291</td>\n",
       "    </tr>\n",
       "    <tr>\n",
       "      <th>15</th>\n",
       "      <td>4.172102</td>\n",
       "      <td>0.809983</td>\n",
       "      <td>20.817022</td>\n",
       "      <td>0.985258</td>\n",
       "    </tr>\n",
       "    <tr>\n",
       "      <th>10</th>\n",
       "      <td>4.008402</td>\n",
       "      <td>0.807403</td>\n",
       "      <td>13.678606</td>\n",
       "      <td>0.985157</td>\n",
       "    </tr>\n",
       "    <tr>\n",
       "      <th>11</th>\n",
       "      <td>4.452149</td>\n",
       "      <td>0.817984</td>\n",
       "      <td>4.973858</td>\n",
       "      <td>0.985098</td>\n",
       "    </tr>\n",
       "  </tbody>\n",
       "</table>\n",
       "</div>"
      ],
      "text/plain": [
       "    max_depth  max_features  min_samples_leaf     score\n",
       "1    8.000000      0.800000         12.809181  0.987044\n",
       "2    7.678947      0.812139         15.492577  0.986644\n",
       "26   5.523923      0.828654         16.736800  0.986620\n",
       "19   7.661597      0.800234         13.986432  0.986591\n",
       "22   6.568821      0.827011          5.438912  0.986570\n",
       "25   6.287388      0.810032         13.135846  0.986559\n",
       "5    7.974298      0.808129         11.507922  0.986539\n",
       "12   5.915226      0.805153         12.515069  0.986533\n",
       "28   5.379961      0.812140         18.079526  0.986531\n",
       "18   5.822296      0.806584         20.229211  0.986507\n",
       "24   5.847112      0.803474          7.817926  0.986501\n",
       "3    7.706670      0.848884          1.324281  0.986458\n",
       "23   5.932193      0.810573          1.206375  0.986455\n",
       "29   7.852823      0.832960          9.778897  0.986447\n",
       "8    7.947061      0.824735         12.744764  0.986426\n",
       "13   6.677669      0.814913         14.792048  0.986414\n",
       "9    7.245072      0.821890          7.121108  0.986372\n",
       "0    6.344580      0.865756         20.994556  0.986343\n",
       "16   7.784748      0.825016         14.662241  0.986297\n",
       "27   6.076634      0.864694         10.191143  0.986285\n",
       "20   7.646834      0.808409          8.616709  0.986260\n",
       "14   7.980284      0.839939          4.729906  0.986195\n",
       "6    7.709161      0.814792         20.632390  0.986193\n",
       "17   7.654122      0.845011         17.667814  0.986169\n",
       "21   7.428873      0.801587          2.912790  0.986113\n",
       "4    4.038542      0.903750          1.433596  0.985464\n",
       "7    4.446020      0.865355         18.473001  0.985291\n",
       "15   4.172102      0.809983         20.817022  0.985258\n",
       "10   4.008402      0.807403         13.678606  0.985157\n",
       "11   4.452149      0.817984          4.973858  0.985098"
      ]
     },
     "execution_count": 41,
     "metadata": {},
     "output_type": "execute_result"
    }
   ],
   "source": [
    "# The best optimized parameters are on the boundary of the preassigned interval.\n",
    "# It is better to adjust the boundaries if having time\n",
    "rf_bo_scores = pd.DataFrame([[s[0]['max_depth'],\n",
    "                               s[0]['max_features'],\n",
    "                               s[0]['min_samples_leaf'],\n",
    "                               s[1]] for s in zip(rf_BO.res['all']['params'],rf_BO.res['all']['values'])],\n",
    "                            columns = ['max_depth',\n",
    "                                       'max_features',\n",
    "                                       'min_samples_leaf',\n",
    "                                       'score'])\n",
    "rf_bo_scores=rf_bo_scores.sort_values('score',ascending=False)\n",
    "rf_bo_scores"
   ]
  },
  {
   "cell_type": "markdown",
   "metadata": {},
   "source": [
    "### 3. Final Random Forest Model"
   ]
  },
  {
   "cell_type": "code",
   "execution_count": 43,
   "metadata": {
    "collapsed": false
   },
   "outputs": [
    {
     "name": "stdout",
     "output_type": "stream",
     "text": [
      "0.986665113582\n"
     ]
    }
   ],
   "source": [
    "opt_max_depth = 8\n",
    "opt_max_features = 0.8\n",
    "opt_min_samples_leaf = 13\n",
    "\n",
    "skf = StratifiedKFold(data_y, n_folds=4, shuffle=True, random_state=535)\n",
    "final_rf = ensemble.RandomForestClassifier(n_estimators=2000, max_depth = opt_max_depth, \n",
    "             max_features = opt_max_features, min_samples_leaf = opt_min_samples_leaf,\n",
    "             class_weight='balanced', verbose = 0, n_jobs =-1)\n",
    "pred = np.zeros((data_y.shape[0]))\n",
    "for itrain, itest in skf:\n",
    "    Xtr, Xte = data_X[itrain, :], data_X[itest, :]\n",
    "    ytr, yte = data_y[itrain], data_y[itest]\n",
    "    final_rf.fit(Xtr, ytr)\n",
    "    pred[itest] = final_rf.predict_proba(Xte)[:,1]\n",
    "score = metrics.roc_auc_score(data_y, pred)\n",
    "print score\n"
   ]
  },
  {
   "cell_type": "markdown",
   "metadata": {},
   "source": [
    "# Summary\n",
    "#### 1. The goal of this model is to predict whether a user would convert or not given advertisements.\n",
    "#### 2. This is a binary classification problem in imblanced data. To built a accurate model in imblanced data, I 1) used AUC as the evaluation metrics, 2) I split training and evaluating datasets by StratifiedKFold, 3) I used the Random Forest model, where I further set class_weight='balanced\n",
    "#### 3. Further improvements: add more basic models on different processed data (e.g. LabelEncode <=> OHE, advertisements' count <=> advertisements' indicator, etc), stacking these models to build the final model\n",
    "\n",
    "#### 4. Based on my current Random Forest classification model, I achieved an AUC of 0.987 by cross-validation\n",
    "#### 5. The final goal of this project is to to get the contribution of each channel to conversion\n",
    "I believe this prediction model can help clients design how to launch advertisement campaigns across channels.\n",
    "When clients have a launched plan, I can tell them which channel(s) are the most important before they implemented this plan. Even more, I can tell them the most effective time period in a channel for advertisment. \n",
    "More information can be given when this model also considers the advertisement group, position, etc."
   ]
  },
  {
   "cell_type": "code",
   "execution_count": null,
   "metadata": {
    "collapsed": true
   },
   "outputs": [],
   "source": []
  }
 ],
 "metadata": {
  "anaconda-cloud": {},
  "kernelspec": {
   "display_name": "Python [default]",
   "language": "python",
   "name": "python2"
  },
  "language_info": {
   "codemirror_mode": {
    "name": "ipython",
    "version": 2
   },
   "file_extension": ".py",
   "mimetype": "text/x-python",
   "name": "python",
   "nbconvert_exporter": "python",
   "pygments_lexer": "ipython2",
   "version": "2.7.12"
  }
 },
 "nbformat": 4,
 "nbformat_minor": 1
}
